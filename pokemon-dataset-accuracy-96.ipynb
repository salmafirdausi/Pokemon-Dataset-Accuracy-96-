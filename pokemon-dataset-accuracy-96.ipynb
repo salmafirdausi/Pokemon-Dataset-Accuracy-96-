{
 "cells": [
  {
   "cell_type": "markdown",
   "id": "9bd3a7a8",
   "metadata": {
    "papermill": {
     "duration": 0.018761,
     "end_time": "2024-02-28T05:09:33.431450",
     "exception": false,
     "start_time": "2024-02-28T05:09:33.412689",
     "status": "completed"
    },
    "tags": []
   },
   "source": [
    "# **Details on DataSet**\n",
    "This dataset contains information on all 800 Pokemon from all Seven Generations of Pokemon. The information contained in this dataset includes ID, name, type, hit point, the base modifier for normal attacks, the base damage resistance against normal attacks, special attack, the base damage resistance against special attacks, determines which Pokemon attacks first each round, number of generation, and legendary Pokemon.\n",
    "\n"
   ]
  },
  {
   "cell_type": "markdown",
   "id": "364bab27",
   "metadata": {
    "papermill": {
     "duration": 0.017993,
     "end_time": "2024-02-28T05:09:33.468025",
     "exception": false,
     "start_time": "2024-02-28T05:09:33.450032",
     "status": "completed"
    },
    "tags": []
   },
   "source": [
    "# Importing Libraries"
   ]
  },
  {
   "cell_type": "code",
   "execution_count": 1,
   "id": "db7c3210",
   "metadata": {
    "_cell_guid": "b1076dfc-b9ad-4769-8c92-a6c4dae69d19",
    "_uuid": "8f2839f25d086af736a60e9eeb907d3b93b6e0e5",
    "execution": {
     "iopub.execute_input": "2024-02-28T05:09:33.507823Z",
     "iopub.status.busy": "2024-02-28T05:09:33.507109Z",
     "iopub.status.idle": "2024-02-28T05:09:35.639026Z",
     "shell.execute_reply": "2024-02-28T05:09:35.638116Z"
    },
    "papermill": {
     "duration": 2.155206,
     "end_time": "2024-02-28T05:09:35.641734",
     "exception": false,
     "start_time": "2024-02-28T05:09:33.486528",
     "status": "completed"
    },
    "tags": []
   },
   "outputs": [
    {
     "name": "stdout",
     "output_type": "stream",
     "text": [
      "/kaggle/input/pokemon/PokemonData.csv\n",
      "/kaggle/input/pokemon/README.md\n",
      "/kaggle/input/d/salmafirdausi/pokemon/Pokemon.csv\n"
     ]
    }
   ],
   "source": [
    "import pandas as pd\n",
    "import numpy as np\n",
    "import matplotlib.pyplot as plt\n",
    "%matplotlib inline\n",
    "import seaborn as sns\n",
    "import warnings\n",
    "warnings.filterwarnings('ignore')\n",
    "\n",
    "import os\n",
    "for dirname, _, filenames in os.walk('/kaggle/input'):\n",
    "    for filename in filenames:\n",
    "        print(os.path.join(dirname, filename))"
   ]
  },
  {
   "cell_type": "code",
   "execution_count": 2,
   "id": "b575e1b4",
   "metadata": {
    "execution": {
     "iopub.execute_input": "2024-02-28T05:09:35.681815Z",
     "iopub.status.busy": "2024-02-28T05:09:35.681247Z",
     "iopub.status.idle": "2024-02-28T05:09:35.996372Z",
     "shell.execute_reply": "2024-02-28T05:09:35.995251Z"
    },
    "papermill": {
     "duration": 0.337675,
     "end_time": "2024-02-28T05:09:35.999108",
     "exception": false,
     "start_time": "2024-02-28T05:09:35.661433",
     "status": "completed"
    },
    "tags": []
   },
   "outputs": [],
   "source": [
    "from sklearn.preprocessing import LabelEncoder\n",
    "from sklearn.preprocessing import StandardScaler\n",
    "from sklearn.model_selection import train_test_split"
   ]
  },
  {
   "cell_type": "code",
   "execution_count": 3,
   "id": "fbb15558",
   "metadata": {
    "execution": {
     "iopub.execute_input": "2024-02-28T05:09:36.037677Z",
     "iopub.status.busy": "2024-02-28T05:09:36.037299Z",
     "iopub.status.idle": "2024-02-28T05:09:36.260121Z",
     "shell.execute_reply": "2024-02-28T05:09:36.259210Z"
    },
    "papermill": {
     "duration": 0.245163,
     "end_time": "2024-02-28T05:09:36.262832",
     "exception": false,
     "start_time": "2024-02-28T05:09:36.017669",
     "status": "completed"
    },
    "tags": []
   },
   "outputs": [],
   "source": [
    "from sklearn.linear_model import LogisticRegression\n",
    "from sklearn import tree\n",
    "from sklearn.ensemble import RandomForestClassifier\n",
    "from sklearn.naive_bayes import GaussianNB\n",
    "from sklearn.neighbors import KNeighborsClassifier\n",
    "from sklearn.svm import SVC\n",
    "from sklearn.metrics import accuracy_score\n",
    "from sklearn.metrics import classification_report\n",
    "from sklearn.model_selection import GridSearchCV\n",
    "from sklearn import metrics"
   ]
  },
  {
   "cell_type": "markdown",
   "id": "7e874e5b",
   "metadata": {
    "papermill": {
     "duration": 0.019837,
     "end_time": "2024-02-28T05:09:36.301083",
     "exception": false,
     "start_time": "2024-02-28T05:09:36.281246",
     "status": "completed"
    },
    "tags": []
   },
   "source": [
    "# Import Data"
   ]
  },
  {
   "cell_type": "code",
   "execution_count": 4,
   "id": "3cbef4cb",
   "metadata": {
    "execution": {
     "iopub.execute_input": "2024-02-28T05:09:36.339422Z",
     "iopub.status.busy": "2024-02-28T05:09:36.338715Z",
     "iopub.status.idle": "2024-02-28T05:09:36.356467Z",
     "shell.execute_reply": "2024-02-28T05:09:36.355682Z"
    },
    "papermill": {
     "duration": 0.039245,
     "end_time": "2024-02-28T05:09:36.358726",
     "exception": false,
     "start_time": "2024-02-28T05:09:36.319481",
     "status": "completed"
    },
    "scrolled": true,
    "tags": []
   },
   "outputs": [],
   "source": [
    "pokemon = pd.read_csv('/kaggle/input/d/salmafirdausi/pokemon/Pokemon.csv')"
   ]
  },
  {
   "cell_type": "code",
   "execution_count": 5,
   "id": "973d31e5",
   "metadata": {
    "execution": {
     "iopub.execute_input": "2024-02-28T05:09:36.396063Z",
     "iopub.status.busy": "2024-02-28T05:09:36.395402Z",
     "iopub.status.idle": "2024-02-28T05:09:36.423602Z",
     "shell.execute_reply": "2024-02-28T05:09:36.422635Z"
    },
    "papermill": {
     "duration": 0.049298,
     "end_time": "2024-02-28T05:09:36.425938",
     "exception": false,
     "start_time": "2024-02-28T05:09:36.376640",
     "status": "completed"
    },
    "tags": []
   },
   "outputs": [
    {
     "data": {
      "text/html": [
       "<div>\n",
       "<style scoped>\n",
       "    .dataframe tbody tr th:only-of-type {\n",
       "        vertical-align: middle;\n",
       "    }\n",
       "\n",
       "    .dataframe tbody tr th {\n",
       "        vertical-align: top;\n",
       "    }\n",
       "\n",
       "    .dataframe thead th {\n",
       "        text-align: right;\n",
       "    }\n",
       "</style>\n",
       "<table border=\"1\" class=\"dataframe\">\n",
       "  <thead>\n",
       "    <tr style=\"text-align: right;\">\n",
       "      <th></th>\n",
       "      <th>#</th>\n",
       "      <th>Name</th>\n",
       "      <th>Type 1</th>\n",
       "      <th>Type 2</th>\n",
       "      <th>Total</th>\n",
       "      <th>HP</th>\n",
       "      <th>Attack</th>\n",
       "      <th>Defense</th>\n",
       "      <th>Sp. Atk</th>\n",
       "      <th>Sp. Def</th>\n",
       "      <th>Speed</th>\n",
       "      <th>Generation</th>\n",
       "      <th>Legendary</th>\n",
       "    </tr>\n",
       "  </thead>\n",
       "  <tbody>\n",
       "    <tr>\n",
       "      <th>0</th>\n",
       "      <td>1</td>\n",
       "      <td>Bulbasaur</td>\n",
       "      <td>Grass</td>\n",
       "      <td>Poison</td>\n",
       "      <td>318</td>\n",
       "      <td>45</td>\n",
       "      <td>49</td>\n",
       "      <td>49</td>\n",
       "      <td>65</td>\n",
       "      <td>65</td>\n",
       "      <td>45</td>\n",
       "      <td>1</td>\n",
       "      <td>False</td>\n",
       "    </tr>\n",
       "    <tr>\n",
       "      <th>1</th>\n",
       "      <td>2</td>\n",
       "      <td>Ivysaur</td>\n",
       "      <td>Grass</td>\n",
       "      <td>Poison</td>\n",
       "      <td>405</td>\n",
       "      <td>60</td>\n",
       "      <td>62</td>\n",
       "      <td>63</td>\n",
       "      <td>80</td>\n",
       "      <td>80</td>\n",
       "      <td>60</td>\n",
       "      <td>1</td>\n",
       "      <td>False</td>\n",
       "    </tr>\n",
       "    <tr>\n",
       "      <th>2</th>\n",
       "      <td>3</td>\n",
       "      <td>Venusaur</td>\n",
       "      <td>Grass</td>\n",
       "      <td>Poison</td>\n",
       "      <td>525</td>\n",
       "      <td>80</td>\n",
       "      <td>82</td>\n",
       "      <td>83</td>\n",
       "      <td>100</td>\n",
       "      <td>100</td>\n",
       "      <td>80</td>\n",
       "      <td>1</td>\n",
       "      <td>False</td>\n",
       "    </tr>\n",
       "    <tr>\n",
       "      <th>3</th>\n",
       "      <td>3</td>\n",
       "      <td>VenusaurMega Venusaur</td>\n",
       "      <td>Grass</td>\n",
       "      <td>Poison</td>\n",
       "      <td>625</td>\n",
       "      <td>80</td>\n",
       "      <td>100</td>\n",
       "      <td>123</td>\n",
       "      <td>122</td>\n",
       "      <td>120</td>\n",
       "      <td>80</td>\n",
       "      <td>1</td>\n",
       "      <td>False</td>\n",
       "    </tr>\n",
       "    <tr>\n",
       "      <th>4</th>\n",
       "      <td>4</td>\n",
       "      <td>Charmander</td>\n",
       "      <td>Fire</td>\n",
       "      <td>NaN</td>\n",
       "      <td>309</td>\n",
       "      <td>39</td>\n",
       "      <td>52</td>\n",
       "      <td>43</td>\n",
       "      <td>60</td>\n",
       "      <td>50</td>\n",
       "      <td>65</td>\n",
       "      <td>1</td>\n",
       "      <td>False</td>\n",
       "    </tr>\n",
       "    <tr>\n",
       "      <th>...</th>\n",
       "      <td>...</td>\n",
       "      <td>...</td>\n",
       "      <td>...</td>\n",
       "      <td>...</td>\n",
       "      <td>...</td>\n",
       "      <td>...</td>\n",
       "      <td>...</td>\n",
       "      <td>...</td>\n",
       "      <td>...</td>\n",
       "      <td>...</td>\n",
       "      <td>...</td>\n",
       "      <td>...</td>\n",
       "      <td>...</td>\n",
       "    </tr>\n",
       "    <tr>\n",
       "      <th>795</th>\n",
       "      <td>719</td>\n",
       "      <td>Diancie</td>\n",
       "      <td>Rock</td>\n",
       "      <td>Fairy</td>\n",
       "      <td>600</td>\n",
       "      <td>50</td>\n",
       "      <td>100</td>\n",
       "      <td>150</td>\n",
       "      <td>100</td>\n",
       "      <td>150</td>\n",
       "      <td>50</td>\n",
       "      <td>6</td>\n",
       "      <td>True</td>\n",
       "    </tr>\n",
       "    <tr>\n",
       "      <th>796</th>\n",
       "      <td>719</td>\n",
       "      <td>DiancieMega Diancie</td>\n",
       "      <td>Rock</td>\n",
       "      <td>Fairy</td>\n",
       "      <td>700</td>\n",
       "      <td>50</td>\n",
       "      <td>160</td>\n",
       "      <td>110</td>\n",
       "      <td>160</td>\n",
       "      <td>110</td>\n",
       "      <td>110</td>\n",
       "      <td>6</td>\n",
       "      <td>True</td>\n",
       "    </tr>\n",
       "    <tr>\n",
       "      <th>797</th>\n",
       "      <td>720</td>\n",
       "      <td>HoopaHoopa Confined</td>\n",
       "      <td>Psychic</td>\n",
       "      <td>Ghost</td>\n",
       "      <td>600</td>\n",
       "      <td>80</td>\n",
       "      <td>110</td>\n",
       "      <td>60</td>\n",
       "      <td>150</td>\n",
       "      <td>130</td>\n",
       "      <td>70</td>\n",
       "      <td>6</td>\n",
       "      <td>True</td>\n",
       "    </tr>\n",
       "    <tr>\n",
       "      <th>798</th>\n",
       "      <td>720</td>\n",
       "      <td>HoopaHoopa Unbound</td>\n",
       "      <td>Psychic</td>\n",
       "      <td>Dark</td>\n",
       "      <td>680</td>\n",
       "      <td>80</td>\n",
       "      <td>160</td>\n",
       "      <td>60</td>\n",
       "      <td>170</td>\n",
       "      <td>130</td>\n",
       "      <td>80</td>\n",
       "      <td>6</td>\n",
       "      <td>True</td>\n",
       "    </tr>\n",
       "    <tr>\n",
       "      <th>799</th>\n",
       "      <td>721</td>\n",
       "      <td>Volcanion</td>\n",
       "      <td>Fire</td>\n",
       "      <td>Water</td>\n",
       "      <td>600</td>\n",
       "      <td>80</td>\n",
       "      <td>110</td>\n",
       "      <td>120</td>\n",
       "      <td>130</td>\n",
       "      <td>90</td>\n",
       "      <td>70</td>\n",
       "      <td>6</td>\n",
       "      <td>True</td>\n",
       "    </tr>\n",
       "  </tbody>\n",
       "</table>\n",
       "<p>800 rows × 13 columns</p>\n",
       "</div>"
      ],
      "text/plain": [
       "       #                   Name   Type 1  Type 2  Total  HP  Attack  Defense  \\\n",
       "0      1              Bulbasaur    Grass  Poison    318  45      49       49   \n",
       "1      2                Ivysaur    Grass  Poison    405  60      62       63   \n",
       "2      3               Venusaur    Grass  Poison    525  80      82       83   \n",
       "3      3  VenusaurMega Venusaur    Grass  Poison    625  80     100      123   \n",
       "4      4             Charmander     Fire     NaN    309  39      52       43   \n",
       "..   ...                    ...      ...     ...    ...  ..     ...      ...   \n",
       "795  719                Diancie     Rock   Fairy    600  50     100      150   \n",
       "796  719    DiancieMega Diancie     Rock   Fairy    700  50     160      110   \n",
       "797  720    HoopaHoopa Confined  Psychic   Ghost    600  80     110       60   \n",
       "798  720     HoopaHoopa Unbound  Psychic    Dark    680  80     160       60   \n",
       "799  721              Volcanion     Fire   Water    600  80     110      120   \n",
       "\n",
       "     Sp. Atk  Sp. Def  Speed  Generation  Legendary  \n",
       "0         65       65     45           1      False  \n",
       "1         80       80     60           1      False  \n",
       "2        100      100     80           1      False  \n",
       "3        122      120     80           1      False  \n",
       "4         60       50     65           1      False  \n",
       "..       ...      ...    ...         ...        ...  \n",
       "795      100      150     50           6       True  \n",
       "796      160      110    110           6       True  \n",
       "797      150      130     70           6       True  \n",
       "798      170      130     80           6       True  \n",
       "799      130       90     70           6       True  \n",
       "\n",
       "[800 rows x 13 columns]"
      ]
     },
     "execution_count": 5,
     "metadata": {},
     "output_type": "execute_result"
    }
   ],
   "source": [
    "pokemon"
   ]
  },
  {
   "cell_type": "code",
   "execution_count": 6,
   "id": "a3dbb1e6",
   "metadata": {
    "execution": {
     "iopub.execute_input": "2024-02-28T05:09:36.463962Z",
     "iopub.status.busy": "2024-02-28T05:09:36.463273Z",
     "iopub.status.idle": "2024-02-28T05:09:36.469420Z",
     "shell.execute_reply": "2024-02-28T05:09:36.468256Z"
    },
    "papermill": {
     "duration": 0.027334,
     "end_time": "2024-02-28T05:09:36.471469",
     "exception": false,
     "start_time": "2024-02-28T05:09:36.444135",
     "status": "completed"
    },
    "tags": []
   },
   "outputs": [
    {
     "name": "stdout",
     "output_type": "stream",
     "text": [
      "The number of sample in dataset is 800.\n"
     ]
    }
   ],
   "source": [
    "print(\"The number of sample in dataset is {}.\".format(pokemon.shape[0]))"
   ]
  },
  {
   "cell_type": "code",
   "execution_count": 7,
   "id": "2c431175",
   "metadata": {
    "execution": {
     "iopub.execute_input": "2024-02-28T05:09:36.510960Z",
     "iopub.status.busy": "2024-02-28T05:09:36.510600Z",
     "iopub.status.idle": "2024-02-28T05:09:36.517240Z",
     "shell.execute_reply": "2024-02-28T05:09:36.516271Z"
    },
    "papermill": {
     "duration": 0.029816,
     "end_time": "2024-02-28T05:09:36.519817",
     "exception": false,
     "start_time": "2024-02-28T05:09:36.490001",
     "status": "completed"
    },
    "tags": []
   },
   "outputs": [
    {
     "data": {
      "text/plain": [
       "Index(['#', 'Name', 'Type 1', 'Type 2', 'Total', 'HP', 'Attack', 'Defense',\n",
       "       'Sp. Atk', 'Sp. Def', 'Speed', 'Generation', 'Legendary'],\n",
       "      dtype='object')"
      ]
     },
     "execution_count": 7,
     "metadata": {},
     "output_type": "execute_result"
    }
   ],
   "source": [
    "pokemon.columns"
   ]
  },
  {
   "cell_type": "markdown",
   "id": "532dd21a",
   "metadata": {
    "papermill": {
     "duration": 0.019597,
     "end_time": "2024-02-28T05:09:36.558510",
     "exception": false,
     "start_time": "2024-02-28T05:09:36.538913",
     "status": "completed"
    },
    "tags": []
   },
   "source": [
    "# Check Data quality"
   ]
  },
  {
   "cell_type": "code",
   "execution_count": 8,
   "id": "98e4dd41",
   "metadata": {
    "execution": {
     "iopub.execute_input": "2024-02-28T05:09:36.599128Z",
     "iopub.status.busy": "2024-02-28T05:09:36.598773Z",
     "iopub.status.idle": "2024-02-28T05:09:36.614353Z",
     "shell.execute_reply": "2024-02-28T05:09:36.613276Z"
    },
    "papermill": {
     "duration": 0.03873,
     "end_time": "2024-02-28T05:09:36.616636",
     "exception": false,
     "start_time": "2024-02-28T05:09:36.577906",
     "status": "completed"
    },
    "tags": []
   },
   "outputs": [
    {
     "data": {
      "text/html": [
       "<div>\n",
       "<style scoped>\n",
       "    .dataframe tbody tr th:only-of-type {\n",
       "        vertical-align: middle;\n",
       "    }\n",
       "\n",
       "    .dataframe tbody tr th {\n",
       "        vertical-align: top;\n",
       "    }\n",
       "\n",
       "    .dataframe thead th {\n",
       "        text-align: right;\n",
       "    }\n",
       "</style>\n",
       "<table border=\"1\" class=\"dataframe\">\n",
       "  <thead>\n",
       "    <tr style=\"text-align: right;\">\n",
       "      <th></th>\n",
       "      <th>#</th>\n",
       "      <th>Name</th>\n",
       "      <th>Type 1</th>\n",
       "      <th>Type 2</th>\n",
       "      <th>Total</th>\n",
       "      <th>HP</th>\n",
       "      <th>Attack</th>\n",
       "      <th>Defense</th>\n",
       "      <th>Sp. Atk</th>\n",
       "      <th>Sp. Def</th>\n",
       "      <th>Speed</th>\n",
       "      <th>Generation</th>\n",
       "      <th>Legendary</th>\n",
       "    </tr>\n",
       "  </thead>\n",
       "  <tbody>\n",
       "    <tr>\n",
       "      <th>0</th>\n",
       "      <td>1</td>\n",
       "      <td>Bulbasaur</td>\n",
       "      <td>Grass</td>\n",
       "      <td>Poison</td>\n",
       "      <td>318</td>\n",
       "      <td>45</td>\n",
       "      <td>49</td>\n",
       "      <td>49</td>\n",
       "      <td>65</td>\n",
       "      <td>65</td>\n",
       "      <td>45</td>\n",
       "      <td>1</td>\n",
       "      <td>False</td>\n",
       "    </tr>\n",
       "    <tr>\n",
       "      <th>1</th>\n",
       "      <td>2</td>\n",
       "      <td>Ivysaur</td>\n",
       "      <td>Grass</td>\n",
       "      <td>Poison</td>\n",
       "      <td>405</td>\n",
       "      <td>60</td>\n",
       "      <td>62</td>\n",
       "      <td>63</td>\n",
       "      <td>80</td>\n",
       "      <td>80</td>\n",
       "      <td>60</td>\n",
       "      <td>1</td>\n",
       "      <td>False</td>\n",
       "    </tr>\n",
       "    <tr>\n",
       "      <th>2</th>\n",
       "      <td>3</td>\n",
       "      <td>Venusaur</td>\n",
       "      <td>Grass</td>\n",
       "      <td>Poison</td>\n",
       "      <td>525</td>\n",
       "      <td>80</td>\n",
       "      <td>82</td>\n",
       "      <td>83</td>\n",
       "      <td>100</td>\n",
       "      <td>100</td>\n",
       "      <td>80</td>\n",
       "      <td>1</td>\n",
       "      <td>False</td>\n",
       "    </tr>\n",
       "    <tr>\n",
       "      <th>3</th>\n",
       "      <td>3</td>\n",
       "      <td>VenusaurMega Venusaur</td>\n",
       "      <td>Grass</td>\n",
       "      <td>Poison</td>\n",
       "      <td>625</td>\n",
       "      <td>80</td>\n",
       "      <td>100</td>\n",
       "      <td>123</td>\n",
       "      <td>122</td>\n",
       "      <td>120</td>\n",
       "      <td>80</td>\n",
       "      <td>1</td>\n",
       "      <td>False</td>\n",
       "    </tr>\n",
       "    <tr>\n",
       "      <th>4</th>\n",
       "      <td>4</td>\n",
       "      <td>Charmander</td>\n",
       "      <td>Fire</td>\n",
       "      <td>NaN</td>\n",
       "      <td>309</td>\n",
       "      <td>39</td>\n",
       "      <td>52</td>\n",
       "      <td>43</td>\n",
       "      <td>60</td>\n",
       "      <td>50</td>\n",
       "      <td>65</td>\n",
       "      <td>1</td>\n",
       "      <td>False</td>\n",
       "    </tr>\n",
       "  </tbody>\n",
       "</table>\n",
       "</div>"
      ],
      "text/plain": [
       "   #                   Name Type 1  Type 2  Total  HP  Attack  Defense  \\\n",
       "0  1              Bulbasaur  Grass  Poison    318  45      49       49   \n",
       "1  2                Ivysaur  Grass  Poison    405  60      62       63   \n",
       "2  3               Venusaur  Grass  Poison    525  80      82       83   \n",
       "3  3  VenusaurMega Venusaur  Grass  Poison    625  80     100      123   \n",
       "4  4             Charmander   Fire     NaN    309  39      52       43   \n",
       "\n",
       "   Sp. Atk  Sp. Def  Speed  Generation  Legendary  \n",
       "0       65       65     45           1      False  \n",
       "1       80       80     60           1      False  \n",
       "2      100      100     80           1      False  \n",
       "3      122      120     80           1      False  \n",
       "4       60       50     65           1      False  "
      ]
     },
     "execution_count": 8,
     "metadata": {},
     "output_type": "execute_result"
    }
   ],
   "source": [
    "pokemon.head()"
   ]
  },
  {
   "cell_type": "markdown",
   "id": "80d2e9c9",
   "metadata": {
    "papermill": {
     "duration": 0.019488,
     "end_time": "2024-02-28T05:09:36.655746",
     "exception": false,
     "start_time": "2024-02-28T05:09:36.636258",
     "status": "completed"
    },
    "tags": []
   },
   "source": [
    "We have one column with the name # which we need to drop"
   ]
  },
  {
   "cell_type": "code",
   "execution_count": 9,
   "id": "b169f249",
   "metadata": {
    "execution": {
     "iopub.execute_input": "2024-02-28T05:09:36.697741Z",
     "iopub.status.busy": "2024-02-28T05:09:36.696744Z",
     "iopub.status.idle": "2024-02-28T05:09:36.708449Z",
     "shell.execute_reply": "2024-02-28T05:09:36.707395Z"
    },
    "papermill": {
     "duration": 0.035092,
     "end_time": "2024-02-28T05:09:36.710751",
     "exception": false,
     "start_time": "2024-02-28T05:09:36.675659",
     "status": "completed"
    },
    "tags": []
   },
   "outputs": [
    {
     "data": {
      "text/plain": [
       "array(['Grass', 'Fire', 'Water', 'Bug', 'Normal', 'Poison', 'Electric',\n",
       "       'Ground', 'Fairy', 'Fighting', 'Psychic', 'Rock', 'Ghost', 'Ice',\n",
       "       'Dragon', 'Dark', 'Steel', 'Flying'], dtype=object)"
      ]
     },
     "execution_count": 9,
     "metadata": {},
     "output_type": "execute_result"
    }
   ],
   "source": [
    "#Checking the type of categories in Type1\n",
    "pokemon['Type 1'].unique()"
   ]
  },
  {
   "cell_type": "markdown",
   "id": "856af8ae",
   "metadata": {
    "papermill": {
     "duration": 0.019772,
     "end_time": "2024-02-28T05:09:36.750592",
     "exception": false,
     "start_time": "2024-02-28T05:09:36.730820",
     "status": "completed"
    },
    "tags": []
   },
   "source": [
    "Type 1 is a type that determines weakness/resistance to attacks. There are several categories in type 1 namely Grass, Fire, Water, Bug, Normal, Poison, Electric, Ground, Fairy, Fighting, Psychic, Rock, Ghost, Ice, Dragon, Dark, Steel, and Flying."
   ]
  },
  {
   "cell_type": "code",
   "execution_count": 10,
   "id": "b1e9e176",
   "metadata": {
    "execution": {
     "iopub.execute_input": "2024-02-28T05:09:36.791359Z",
     "iopub.status.busy": "2024-02-28T05:09:36.790724Z",
     "iopub.status.idle": "2024-02-28T05:09:36.797054Z",
     "shell.execute_reply": "2024-02-28T05:09:36.796342Z"
    },
    "papermill": {
     "duration": 0.028776,
     "end_time": "2024-02-28T05:09:36.799079",
     "exception": false,
     "start_time": "2024-02-28T05:09:36.770303",
     "status": "completed"
    },
    "tags": []
   },
   "outputs": [
    {
     "data": {
      "text/plain": [
       "array(['Poison', nan, 'Flying', 'Dragon', 'Ground', 'Fairy', 'Grass',\n",
       "       'Fighting', 'Psychic', 'Steel', 'Ice', 'Rock', 'Dark', 'Water',\n",
       "       'Electric', 'Fire', 'Ghost', 'Bug', 'Normal'], dtype=object)"
      ]
     },
     "execution_count": 10,
     "metadata": {},
     "output_type": "execute_result"
    }
   ],
   "source": [
    "# checking the categories in type 2\n",
    "pokemon['Type 2'].unique()"
   ]
  },
  {
   "cell_type": "markdown",
   "id": "1f9ce429",
   "metadata": {
    "papermill": {
     "duration": 0.019503,
     "end_time": "2024-02-28T05:09:36.838224",
     "exception": false,
     "start_time": "2024-02-28T05:09:36.818721",
     "status": "completed"
    },
    "tags": []
   },
   "source": [
    "Some Pokemon are dual type and have 2. There are several categories in type 1 namely Poison, Flying, Dragon, Ground, Fairy, Grass, Fightin, Psychic, Steel, Ice, Rock, Dark, Water, Electric, Fire, Ghost, Bug, and Normal."
   ]
  },
  {
   "cell_type": "code",
   "execution_count": 11,
   "id": "0f126b98",
   "metadata": {
    "execution": {
     "iopub.execute_input": "2024-02-28T05:09:36.879089Z",
     "iopub.status.busy": "2024-02-28T05:09:36.878756Z",
     "iopub.status.idle": "2024-02-28T05:09:36.888282Z",
     "shell.execute_reply": "2024-02-28T05:09:36.887494Z"
    },
    "papermill": {
     "duration": 0.032609,
     "end_time": "2024-02-28T05:09:36.890286",
     "exception": false,
     "start_time": "2024-02-28T05:09:36.857677",
     "status": "completed"
    },
    "tags": []
   },
   "outputs": [
    {
     "data": {
      "text/plain": [
       "#               0\n",
       "Name            0\n",
       "Type 1          0\n",
       "Type 2        386\n",
       "Total           0\n",
       "HP              0\n",
       "Attack          0\n",
       "Defense         0\n",
       "Sp. Atk         0\n",
       "Sp. Def         0\n",
       "Speed           0\n",
       "Generation      0\n",
       "Legendary       0\n",
       "dtype: int64"
      ]
     },
     "execution_count": 11,
     "metadata": {},
     "output_type": "execute_result"
    }
   ],
   "source": [
    "# lets check how many nan value each column have\n",
    "pokemon.isnull().sum()"
   ]
  },
  {
   "cell_type": "markdown",
   "id": "7ad2a5ca",
   "metadata": {
    "papermill": {
     "duration": 0.019587,
     "end_time": "2024-02-28T05:09:36.930014",
     "exception": false,
     "start_time": "2024-02-28T05:09:36.910427",
     "status": "completed"
    },
    "tags": []
   },
   "source": [
    "There are 386 null data in type 2."
   ]
  },
  {
   "cell_type": "markdown",
   "id": "75b10b92",
   "metadata": {
    "papermill": {
     "duration": 0.019878,
     "end_time": "2024-02-28T05:09:36.969598",
     "exception": false,
     "start_time": "2024-02-28T05:09:36.949720",
     "status": "completed"
    },
    "tags": []
   },
   "source": [
    "[](http://)"
   ]
  },
  {
   "cell_type": "code",
   "execution_count": 12,
   "id": "2bf85b55",
   "metadata": {
    "execution": {
     "iopub.execute_input": "2024-02-28T05:09:37.011374Z",
     "iopub.status.busy": "2024-02-28T05:09:37.010676Z",
     "iopub.status.idle": "2024-02-28T05:09:37.016481Z",
     "shell.execute_reply": "2024-02-28T05:09:37.015413Z"
    },
    "papermill": {
     "duration": 0.029062,
     "end_time": "2024-02-28T05:09:37.018462",
     "exception": false,
     "start_time": "2024-02-28T05:09:36.989400",
     "status": "completed"
    },
    "tags": []
   },
   "outputs": [
    {
     "name": "stdout",
     "output_type": "stream",
     "text": [
      "Percentage of missing \"Type 2\" record is 48.25%\n"
     ]
    }
   ],
   "source": [
    "print('Percentage of missing \"Type 2\" record is %.2f%%' %((pokemon['Type 2'].isnull().sum()/pokemon.shape[0])*100))"
   ]
  },
  {
   "cell_type": "code",
   "execution_count": 13,
   "id": "f2a2eedb",
   "metadata": {
    "execution": {
     "iopub.execute_input": "2024-02-28T05:09:37.111458Z",
     "iopub.status.busy": "2024-02-28T05:09:37.111057Z",
     "iopub.status.idle": "2024-02-28T05:09:37.411930Z",
     "shell.execute_reply": "2024-02-28T05:09:37.410670Z"
    },
    "papermill": {
     "duration": 0.376831,
     "end_time": "2024-02-28T05:09:37.414449",
     "exception": false,
     "start_time": "2024-02-28T05:09:37.037618",
     "status": "completed"
    },
    "tags": []
   },
   "outputs": [
    {
     "name": "stdout",
     "output_type": "stream",
     "text": [
      "Type 2\n",
      "Flying      97\n",
      "Ground      35\n",
      "Poison      34\n",
      "Psychic     33\n",
      "Fighting    26\n",
      "Grass       25\n",
      "Fairy       23\n",
      "Steel       22\n",
      "Dark        20\n",
      "Dragon      18\n",
      "Water       14\n",
      "Ghost       14\n",
      "Ice         14\n",
      "Rock        14\n",
      "Fire        12\n",
      "Electric     6\n",
      "Normal       4\n",
      "Bug          3\n",
      "Name: count, dtype: int64\n"
     ]
    },
    {
     "data": {
      "image/png": "[encoded data removed]",
      "text/plain": [
       "<Figure size 640x480 with 1 Axes>"
      ]
     },
     "metadata": {},
     "output_type": "display_data"
    }
   ],
   "source": [
    "print(pokemon['Type 2'].value_counts())\n",
    "sns.countplot(y='Type 2', data=pokemon, palette='Set2')\n",
    "plt.show()"
   ]
  },
  {
   "cell_type": "markdown",
   "id": "6814f689",
   "metadata": {
    "papermill": {
     "duration": 0.020418,
     "end_time": "2024-02-28T05:09:37.455914",
     "exception": false,
     "start_time": "2024-02-28T05:09:37.435496",
     "status": "completed"
    },
    "tags": []
   },
   "source": [
    "Since we have 48.25% of records are missing, which means that imputing information and using this variable for prediction is probably not wise. We'll ignore this variable in our model."
   ]
  },
  {
   "cell_type": "code",
   "execution_count": 14,
   "id": "4eed8713",
   "metadata": {
    "execution": {
     "iopub.execute_input": "2024-02-28T05:09:37.498169Z",
     "iopub.status.busy": "2024-02-28T05:09:37.497810Z",
     "iopub.status.idle": "2024-02-28T05:09:37.504929Z",
     "shell.execute_reply": "2024-02-28T05:09:37.503957Z"
    },
    "papermill": {
     "duration": 0.031122,
     "end_time": "2024-02-28T05:09:37.507203",
     "exception": false,
     "start_time": "2024-02-28T05:09:37.476081",
     "status": "completed"
    },
    "tags": []
   },
   "outputs": [],
   "source": [
    "pokemon.drop(columns='Type 2',inplace=True)"
   ]
  },
  {
   "cell_type": "code",
   "execution_count": 15,
   "id": "b4fab71d",
   "metadata": {
    "execution": {
     "iopub.execute_input": "2024-02-28T05:09:37.550919Z",
     "iopub.status.busy": "2024-02-28T05:09:37.550504Z",
     "iopub.status.idle": "2024-02-28T05:09:37.569667Z",
     "shell.execute_reply": "2024-02-28T05:09:37.568540Z"
    },
    "papermill": {
     "duration": 0.043938,
     "end_time": "2024-02-28T05:09:37.571794",
     "exception": false,
     "start_time": "2024-02-28T05:09:37.527856",
     "status": "completed"
    },
    "tags": []
   },
   "outputs": [
    {
     "data": {
      "text/html": [
       "<div>\n",
       "<style scoped>\n",
       "    .dataframe tbody tr th:only-of-type {\n",
       "        vertical-align: middle;\n",
       "    }\n",
       "\n",
       "    .dataframe tbody tr th {\n",
       "        vertical-align: top;\n",
       "    }\n",
       "\n",
       "    .dataframe thead th {\n",
       "        text-align: right;\n",
       "    }\n",
       "</style>\n",
       "<table border=\"1\" class=\"dataframe\">\n",
       "  <thead>\n",
       "    <tr style=\"text-align: right;\">\n",
       "      <th></th>\n",
       "      <th>#</th>\n",
       "      <th>Name</th>\n",
       "      <th>Type 1</th>\n",
       "      <th>Total</th>\n",
       "      <th>HP</th>\n",
       "      <th>Attack</th>\n",
       "      <th>Defense</th>\n",
       "      <th>Sp. Atk</th>\n",
       "      <th>Sp. Def</th>\n",
       "      <th>Speed</th>\n",
       "      <th>Generation</th>\n",
       "      <th>Legendary</th>\n",
       "    </tr>\n",
       "  </thead>\n",
       "  <tbody>\n",
       "    <tr>\n",
       "      <th>0</th>\n",
       "      <td>1</td>\n",
       "      <td>Bulbasaur</td>\n",
       "      <td>Grass</td>\n",
       "      <td>318</td>\n",
       "      <td>45</td>\n",
       "      <td>49</td>\n",
       "      <td>49</td>\n",
       "      <td>65</td>\n",
       "      <td>65</td>\n",
       "      <td>45</td>\n",
       "      <td>1</td>\n",
       "      <td>False</td>\n",
       "    </tr>\n",
       "    <tr>\n",
       "      <th>1</th>\n",
       "      <td>2</td>\n",
       "      <td>Ivysaur</td>\n",
       "      <td>Grass</td>\n",
       "      <td>405</td>\n",
       "      <td>60</td>\n",
       "      <td>62</td>\n",
       "      <td>63</td>\n",
       "      <td>80</td>\n",
       "      <td>80</td>\n",
       "      <td>60</td>\n",
       "      <td>1</td>\n",
       "      <td>False</td>\n",
       "    </tr>\n",
       "    <tr>\n",
       "      <th>2</th>\n",
       "      <td>3</td>\n",
       "      <td>Venusaur</td>\n",
       "      <td>Grass</td>\n",
       "      <td>525</td>\n",
       "      <td>80</td>\n",
       "      <td>82</td>\n",
       "      <td>83</td>\n",
       "      <td>100</td>\n",
       "      <td>100</td>\n",
       "      <td>80</td>\n",
       "      <td>1</td>\n",
       "      <td>False</td>\n",
       "    </tr>\n",
       "    <tr>\n",
       "      <th>3</th>\n",
       "      <td>3</td>\n",
       "      <td>VenusaurMega Venusaur</td>\n",
       "      <td>Grass</td>\n",
       "      <td>625</td>\n",
       "      <td>80</td>\n",
       "      <td>100</td>\n",
       "      <td>123</td>\n",
       "      <td>122</td>\n",
       "      <td>120</td>\n",
       "      <td>80</td>\n",
       "      <td>1</td>\n",
       "      <td>False</td>\n",
       "    </tr>\n",
       "    <tr>\n",
       "      <th>4</th>\n",
       "      <td>4</td>\n",
       "      <td>Charmander</td>\n",
       "      <td>Fire</td>\n",
       "      <td>309</td>\n",
       "      <td>39</td>\n",
       "      <td>52</td>\n",
       "      <td>43</td>\n",
       "      <td>60</td>\n",
       "      <td>50</td>\n",
       "      <td>65</td>\n",
       "      <td>1</td>\n",
       "      <td>False</td>\n",
       "    </tr>\n",
       "    <tr>\n",
       "      <th>...</th>\n",
       "      <td>...</td>\n",
       "      <td>...</td>\n",
       "      <td>...</td>\n",
       "      <td>...</td>\n",
       "      <td>...</td>\n",
       "      <td>...</td>\n",
       "      <td>...</td>\n",
       "      <td>...</td>\n",
       "      <td>...</td>\n",
       "      <td>...</td>\n",
       "      <td>...</td>\n",
       "      <td>...</td>\n",
       "    </tr>\n",
       "    <tr>\n",
       "      <th>795</th>\n",
       "      <td>719</td>\n",
       "      <td>Diancie</td>\n",
       "      <td>Rock</td>\n",
       "      <td>600</td>\n",
       "      <td>50</td>\n",
       "      <td>100</td>\n",
       "      <td>150</td>\n",
       "      <td>100</td>\n",
       "      <td>150</td>\n",
       "      <td>50</td>\n",
       "      <td>6</td>\n",
       "      <td>True</td>\n",
       "    </tr>\n",
       "    <tr>\n",
       "      <th>796</th>\n",
       "      <td>719</td>\n",
       "      <td>DiancieMega Diancie</td>\n",
       "      <td>Rock</td>\n",
       "      <td>700</td>\n",
       "      <td>50</td>\n",
       "      <td>160</td>\n",
       "      <td>110</td>\n",
       "      <td>160</td>\n",
       "      <td>110</td>\n",
       "      <td>110</td>\n",
       "      <td>6</td>\n",
       "      <td>True</td>\n",
       "    </tr>\n",
       "    <tr>\n",
       "      <th>797</th>\n",
       "      <td>720</td>\n",
       "      <td>HoopaHoopa Confined</td>\n",
       "      <td>Psychic</td>\n",
       "      <td>600</td>\n",
       "      <td>80</td>\n",
       "      <td>110</td>\n",
       "      <td>60</td>\n",
       "      <td>150</td>\n",
       "      <td>130</td>\n",
       "      <td>70</td>\n",
       "      <td>6</td>\n",
       "      <td>True</td>\n",
       "    </tr>\n",
       "    <tr>\n",
       "      <th>798</th>\n",
       "      <td>720</td>\n",
       "      <td>HoopaHoopa Unbound</td>\n",
       "      <td>Psychic</td>\n",
       "      <td>680</td>\n",
       "      <td>80</td>\n",
       "      <td>160</td>\n",
       "      <td>60</td>\n",
       "      <td>170</td>\n",
       "      <td>130</td>\n",
       "      <td>80</td>\n",
       "      <td>6</td>\n",
       "      <td>True</td>\n",
       "    </tr>\n",
       "    <tr>\n",
       "      <th>799</th>\n",
       "      <td>721</td>\n",
       "      <td>Volcanion</td>\n",
       "      <td>Fire</td>\n",
       "      <td>600</td>\n",
       "      <td>80</td>\n",
       "      <td>110</td>\n",
       "      <td>120</td>\n",
       "      <td>130</td>\n",
       "      <td>90</td>\n",
       "      <td>70</td>\n",
       "      <td>6</td>\n",
       "      <td>True</td>\n",
       "    </tr>\n",
       "  </tbody>\n",
       "</table>\n",
       "<p>800 rows × 12 columns</p>\n",
       "</div>"
      ],
      "text/plain": [
       "       #                   Name   Type 1  Total  HP  Attack  Defense  Sp. Atk  \\\n",
       "0      1              Bulbasaur    Grass    318  45      49       49       65   \n",
       "1      2                Ivysaur    Grass    405  60      62       63       80   \n",
       "2      3               Venusaur    Grass    525  80      82       83      100   \n",
       "3      3  VenusaurMega Venusaur    Grass    625  80     100      123      122   \n",
       "4      4             Charmander     Fire    309  39      52       43       60   \n",
       "..   ...                    ...      ...    ...  ..     ...      ...      ...   \n",
       "795  719                Diancie     Rock    600  50     100      150      100   \n",
       "796  719    DiancieMega Diancie     Rock    700  50     160      110      160   \n",
       "797  720    HoopaHoopa Confined  Psychic    600  80     110       60      150   \n",
       "798  720     HoopaHoopa Unbound  Psychic    680  80     160       60      170   \n",
       "799  721              Volcanion     Fire    600  80     110      120      130   \n",
       "\n",
       "     Sp. Def  Speed  Generation  Legendary  \n",
       "0         65     45           1      False  \n",
       "1         80     60           1      False  \n",
       "2        100     80           1      False  \n",
       "3        120     80           1      False  \n",
       "4         50     65           1      False  \n",
       "..       ...    ...         ...        ...  \n",
       "795      150     50           6       True  \n",
       "796      110    110           6       True  \n",
       "797      130     70           6       True  \n",
       "798      130     80           6       True  \n",
       "799       90     70           6       True  \n",
       "\n",
       "[800 rows x 12 columns]"
      ]
     },
     "execution_count": 15,
     "metadata": {},
     "output_type": "execute_result"
    }
   ],
   "source": [
    "pokemon"
   ]
  },
  {
   "cell_type": "markdown",
   "id": "63f0f241",
   "metadata": {
    "papermill": {
     "duration": 0.02083,
     "end_time": "2024-02-28T05:09:37.613950",
     "exception": false,
     "start_time": "2024-02-28T05:09:37.593120",
     "status": "completed"
    },
    "tags": []
   },
   "source": [
    "Since we do not have use of null column so we will eliminate this column as well."
   ]
  },
  {
   "cell_type": "markdown",
   "id": "d0b19b16",
   "metadata": {
    "papermill": {
     "duration": 0.023379,
     "end_time": "2024-02-28T05:09:37.658667",
     "exception": false,
     "start_time": "2024-02-28T05:09:37.635288",
     "status": "completed"
    },
    "tags": []
   },
   "source": [
    "# Data Visulization"
   ]
  },
  {
   "cell_type": "code",
   "execution_count": 16,
   "id": "1adf088f",
   "metadata": {
    "execution": {
     "iopub.execute_input": "2024-02-28T05:09:37.703105Z",
     "iopub.status.busy": "2024-02-28T05:09:37.702697Z",
     "iopub.status.idle": "2024-02-28T05:09:38.142220Z",
     "shell.execute_reply": "2024-02-28T05:09:38.141024Z"
    },
    "papermill": {
     "duration": 0.464789,
     "end_time": "2024-02-28T05:09:38.144694",
     "exception": false,
     "start_time": "2024-02-28T05:09:37.679905",
     "status": "completed"
    },
    "tags": []
   },
   "outputs": [
    {
     "data": {
      "image/png": "[encoded data removed]",
      "text/plain": [
       "<Figure size 1000x500 with 1 Axes>"
      ]
     },
     "metadata": {},
     "output_type": "display_data"
    }
   ],
   "source": [
    "plt.figure(figsize=(10,5))\n",
    "sns.countplot(data=pokemon,y='Type 1',hue='Legendary',palette='Set2')\n",
    "plt.title=\"type with legendary\""
   ]
  },
  {
   "cell_type": "markdown",
   "id": "759bb4cb",
   "metadata": {
    "papermill": {
     "duration": 0.022147,
     "end_time": "2024-02-28T05:09:38.190152",
     "exception": false,
     "start_time": "2024-02-28T05:09:38.168005",
     "status": "completed"
    },
    "tags": []
   },
   "source": [
    "Psychic and Dragon type are more probable to be legendary."
   ]
  },
  {
   "cell_type": "code",
   "execution_count": 17,
   "id": "bd3cb810",
   "metadata": {
    "execution": {
     "iopub.execute_input": "2024-02-28T05:09:38.237373Z",
     "iopub.status.busy": "2024-02-28T05:09:38.236381Z",
     "iopub.status.idle": "2024-02-28T05:09:40.953422Z",
     "shell.execute_reply": "2024-02-28T05:09:40.952462Z"
    },
    "papermill": {
     "duration": 2.746155,
     "end_time": "2024-02-28T05:09:40.958631",
     "exception": false,
     "start_time": "2024-02-28T05:09:38.212476",
     "status": "completed"
    },
    "tags": []
   },
   "outputs": [
    {
     "data": {
      "image/png": "[encoded data removed]",
      "text/plain": [
       "<Figure size 2000x2000 with 10 Axes>"
      ]
     },
     "metadata": {},
     "output_type": "display_data"
    }
   ],
   "source": [
    "num_col=pokemon.drop(columns=['Name', 'Type 1'])\n",
    "fig= plt.figure(figsize=(20,20))\n",
    "\n",
    "for i, var in enumerate(num_col):\n",
    "    plt.subplot(4, 4, i+1)\n",
    "    sns.kdeplot(data=num_col,x=var,hue='Legendary',palette='dark')\n",
    "\n",
    "plt.show()"
   ]
  },
  {
   "cell_type": "code",
   "execution_count": 18,
   "id": "7081f82d",
   "metadata": {
    "execution": {
     "iopub.execute_input": "2024-02-28T05:09:41.012601Z",
     "iopub.status.busy": "2024-02-28T05:09:41.011344Z",
     "iopub.status.idle": "2024-02-28T05:09:41.347512Z",
     "shell.execute_reply": "2024-02-28T05:09:41.346443Z"
    },
    "papermill": {
     "duration": 0.366676,
     "end_time": "2024-02-28T05:09:41.350611",
     "exception": false,
     "start_time": "2024-02-28T05:09:40.983935",
     "status": "completed"
    },
    "tags": []
   },
   "outputs": [
    {
     "data": {
      "text/plain": [
       "<Axes: xlabel='count', ylabel='Generation'>"
      ]
     },
     "execution_count": 18,
     "metadata": {},
     "output_type": "execute_result"
    },
    {
     "data": {
      "image/png": "[encoded data removed]",
      "text/plain": [
       "<Figure size 300x300 with 1 Axes>"
      ]
     },
     "metadata": {},
     "output_type": "display_data"
    }
   ],
   "source": [
    "plt.figure(figsize=(3,3))\n",
    "sns.countplot(data=pokemon,y='Generation',hue='Legendary',palette='Accent')"
   ]
  },
  {
   "cell_type": "code",
   "execution_count": 19,
   "id": "61b02266",
   "metadata": {
    "execution": {
     "iopub.execute_input": "2024-02-28T05:09:41.403718Z",
     "iopub.status.busy": "2024-02-28T05:09:41.403319Z",
     "iopub.status.idle": "2024-02-28T05:09:47.654676Z",
     "shell.execute_reply": "2024-02-28T05:09:47.653614Z"
    },
    "papermill": {
     "duration": 6.28072,
     "end_time": "2024-02-28T05:09:47.656986",
     "exception": false,
     "start_time": "2024-02-28T05:09:41.376266",
     "status": "completed"
    },
    "tags": []
   },
   "outputs": [
    {
     "data": {
      "text/plain": [
       "<seaborn.axisgrid.FacetGrid at 0x7c9d43ed9150>"
      ]
     },
     "execution_count": 19,
     "metadata": {},
     "output_type": "execute_result"
    },
    {
     "data": {
      "image/png": "[encoded data removed]",
      "text/plain": [
       "<Figure size 900x600 with 18 Axes>"
      ]
     },
     "metadata": {},
     "output_type": "display_data"
    }
   ],
   "source": [
    "sns.relplot(data=pokemon, kind=\"line\",x=\"Legendary\", y=\"Total\",col=\"Type 1\", col_wrap=6,height=2, aspect=.75, linewidth=3)"
   ]
  },
  {
   "cell_type": "markdown",
   "id": "0e49893b",
   "metadata": {
    "papermill": {
     "duration": 0.027201,
     "end_time": "2024-02-28T05:09:47.711017",
     "exception": false,
     "start_time": "2024-02-28T05:09:47.683816",
     "status": "completed"
    },
    "tags": []
   },
   "source": [
    "No matter what the type the pokemon is, legendary will have higher total points."
   ]
  },
  {
   "cell_type": "markdown",
   "id": "2e909480",
   "metadata": {
    "papermill": {
     "duration": 0.027313,
     "end_time": "2024-02-28T05:09:47.765331",
     "exception": false,
     "start_time": "2024-02-28T05:09:47.738018",
     "status": "completed"
    },
    "tags": []
   },
   "source": [
    "# Data Preprocessing"
   ]
  },
  {
   "cell_type": "code",
   "execution_count": 20,
   "id": "76dfa87b",
   "metadata": {
    "execution": {
     "iopub.execute_input": "2024-02-28T05:09:47.819534Z",
     "iopub.status.busy": "2024-02-28T05:09:47.819097Z",
     "iopub.status.idle": "2024-02-28T05:09:47.833946Z",
     "shell.execute_reply": "2024-02-28T05:09:47.832927Z"
    },
    "papermill": {
     "duration": 0.044662,
     "end_time": "2024-02-28T05:09:47.836145",
     "exception": false,
     "start_time": "2024-02-28T05:09:47.791483",
     "status": "completed"
    },
    "tags": []
   },
   "outputs": [
    {
     "data": {
      "text/html": [
       "<div>\n",
       "<style scoped>\n",
       "    .dataframe tbody tr th:only-of-type {\n",
       "        vertical-align: middle;\n",
       "    }\n",
       "\n",
       "    .dataframe tbody tr th {\n",
       "        vertical-align: top;\n",
       "    }\n",
       "\n",
       "    .dataframe thead th {\n",
       "        text-align: right;\n",
       "    }\n",
       "</style>\n",
       "<table border=\"1\" class=\"dataframe\">\n",
       "  <thead>\n",
       "    <tr style=\"text-align: right;\">\n",
       "      <th></th>\n",
       "      <th>#</th>\n",
       "      <th>Name</th>\n",
       "      <th>Type 1</th>\n",
       "      <th>Total</th>\n",
       "      <th>HP</th>\n",
       "      <th>Attack</th>\n",
       "      <th>Defense</th>\n",
       "      <th>Sp. Atk</th>\n",
       "      <th>Sp. Def</th>\n",
       "      <th>Speed</th>\n",
       "      <th>Generation</th>\n",
       "      <th>Legendary</th>\n",
       "    </tr>\n",
       "  </thead>\n",
       "  <tbody>\n",
       "    <tr>\n",
       "      <th>233</th>\n",
       "      <td>215</td>\n",
       "      <td>Sneasel</td>\n",
       "      <td>Dark</td>\n",
       "      <td>430</td>\n",
       "      <td>55</td>\n",
       "      <td>95</td>\n",
       "      <td>55</td>\n",
       "      <td>35</td>\n",
       "      <td>75</td>\n",
       "      <td>115</td>\n",
       "      <td>2</td>\n",
       "      <td>False</td>\n",
       "    </tr>\n",
       "    <tr>\n",
       "      <th>590</th>\n",
       "      <td>531</td>\n",
       "      <td>Audino</td>\n",
       "      <td>Normal</td>\n",
       "      <td>445</td>\n",
       "      <td>103</td>\n",
       "      <td>60</td>\n",
       "      <td>86</td>\n",
       "      <td>60</td>\n",
       "      <td>86</td>\n",
       "      <td>50</td>\n",
       "      <td>5</td>\n",
       "      <td>False</td>\n",
       "    </tr>\n",
       "    <tr>\n",
       "      <th>96</th>\n",
       "      <td>89</td>\n",
       "      <td>Muk</td>\n",
       "      <td>Poison</td>\n",
       "      <td>500</td>\n",
       "      <td>105</td>\n",
       "      <td>105</td>\n",
       "      <td>75</td>\n",
       "      <td>65</td>\n",
       "      <td>100</td>\n",
       "      <td>50</td>\n",
       "      <td>1</td>\n",
       "      <td>False</td>\n",
       "    </tr>\n",
       "    <tr>\n",
       "      <th>639</th>\n",
       "      <td>578</td>\n",
       "      <td>Duosion</td>\n",
       "      <td>Psychic</td>\n",
       "      <td>370</td>\n",
       "      <td>65</td>\n",
       "      <td>40</td>\n",
       "      <td>50</td>\n",
       "      <td>125</td>\n",
       "      <td>60</td>\n",
       "      <td>30</td>\n",
       "      <td>5</td>\n",
       "      <td>False</td>\n",
       "    </tr>\n",
       "    <tr>\n",
       "      <th>446</th>\n",
       "      <td>401</td>\n",
       "      <td>Kricketot</td>\n",
       "      <td>Bug</td>\n",
       "      <td>194</td>\n",
       "      <td>37</td>\n",
       "      <td>25</td>\n",
       "      <td>41</td>\n",
       "      <td>25</td>\n",
       "      <td>41</td>\n",
       "      <td>25</td>\n",
       "      <td>4</td>\n",
       "      <td>False</td>\n",
       "    </tr>\n",
       "  </tbody>\n",
       "</table>\n",
       "</div>"
      ],
      "text/plain": [
       "       #       Name   Type 1  Total   HP  Attack  Defense  Sp. Atk  Sp. Def  \\\n",
       "233  215    Sneasel     Dark    430   55      95       55       35       75   \n",
       "590  531     Audino   Normal    445  103      60       86       60       86   \n",
       "96    89        Muk   Poison    500  105     105       75       65      100   \n",
       "639  578    Duosion  Psychic    370   65      40       50      125       60   \n",
       "446  401  Kricketot      Bug    194   37      25       41       25       41   \n",
       "\n",
       "     Speed  Generation  Legendary  \n",
       "233    115           2      False  \n",
       "590     50           5      False  \n",
       "96      50           1      False  \n",
       "639     30           5      False  \n",
       "446     25           4      False  "
      ]
     },
     "execution_count": 20,
     "metadata": {},
     "output_type": "execute_result"
    }
   ],
   "source": [
    "pokemon.sample(5)"
   ]
  },
  {
   "cell_type": "markdown",
   "id": "8c255231",
   "metadata": {
    "papermill": {
     "duration": 0.026419,
     "end_time": "2024-02-28T05:09:47.889912",
     "exception": false,
     "start_time": "2024-02-28T05:09:47.863493",
     "status": "completed"
    },
    "tags": []
   },
   "source": [
    "One hot encoding for Type column.\n",
    "Label Encoding for Legendary column."
   ]
  },
  {
   "cell_type": "code",
   "execution_count": 21,
   "id": "7d045998",
   "metadata": {
    "execution": {
     "iopub.execute_input": "2024-02-28T05:09:47.944885Z",
     "iopub.status.busy": "2024-02-28T05:09:47.944524Z",
     "iopub.status.idle": "2024-02-28T05:09:47.952345Z",
     "shell.execute_reply": "2024-02-28T05:09:47.951555Z"
    },
    "papermill": {
     "duration": 0.037738,
     "end_time": "2024-02-28T05:09:47.954236",
     "exception": false,
     "start_time": "2024-02-28T05:09:47.916498",
     "status": "completed"
    },
    "tags": []
   },
   "outputs": [],
   "source": [
    "pokemon.rename(columns={'Type 1':'Type'},inplace=True)\n",
    "\n",
    "pokemon_coded = pd.get_dummies(pokemon,columns=['Type'],drop_first=True)"
   ]
  },
  {
   "cell_type": "code",
   "execution_count": 22,
   "id": "396e75e4",
   "metadata": {
    "execution": {
     "iopub.execute_input": "2024-02-28T05:09:48.010229Z",
     "iopub.status.busy": "2024-02-28T05:09:48.009838Z",
     "iopub.status.idle": "2024-02-28T05:09:48.031827Z",
     "shell.execute_reply": "2024-02-28T05:09:48.030769Z"
    },
    "papermill": {
     "duration": 0.052689,
     "end_time": "2024-02-28T05:09:48.034145",
     "exception": false,
     "start_time": "2024-02-28T05:09:47.981456",
     "status": "completed"
    },
    "tags": []
   },
   "outputs": [
    {
     "data": {
      "text/html": [
       "<div>\n",
       "<style scoped>\n",
       "    .dataframe tbody tr th:only-of-type {\n",
       "        vertical-align: middle;\n",
       "    }\n",
       "\n",
       "    .dataframe tbody tr th {\n",
       "        vertical-align: top;\n",
       "    }\n",
       "\n",
       "    .dataframe thead th {\n",
       "        text-align: right;\n",
       "    }\n",
       "</style>\n",
       "<table border=\"1\" class=\"dataframe\">\n",
       "  <thead>\n",
       "    <tr style=\"text-align: right;\">\n",
       "      <th></th>\n",
       "      <th>#</th>\n",
       "      <th>Name</th>\n",
       "      <th>Total</th>\n",
       "      <th>HP</th>\n",
       "      <th>Attack</th>\n",
       "      <th>Defense</th>\n",
       "      <th>Sp. Atk</th>\n",
       "      <th>Sp. Def</th>\n",
       "      <th>Speed</th>\n",
       "      <th>Generation</th>\n",
       "      <th>...</th>\n",
       "      <th>Type_Ghost</th>\n",
       "      <th>Type_Grass</th>\n",
       "      <th>Type_Ground</th>\n",
       "      <th>Type_Ice</th>\n",
       "      <th>Type_Normal</th>\n",
       "      <th>Type_Poison</th>\n",
       "      <th>Type_Psychic</th>\n",
       "      <th>Type_Rock</th>\n",
       "      <th>Type_Steel</th>\n",
       "      <th>Type_Water</th>\n",
       "    </tr>\n",
       "  </thead>\n",
       "  <tbody>\n",
       "    <tr>\n",
       "      <th>478</th>\n",
       "      <td>430</td>\n",
       "      <td>Honchkrow</td>\n",
       "      <td>505</td>\n",
       "      <td>100</td>\n",
       "      <td>125</td>\n",
       "      <td>52</td>\n",
       "      <td>105</td>\n",
       "      <td>52</td>\n",
       "      <td>71</td>\n",
       "      <td>4</td>\n",
       "      <td>...</td>\n",
       "      <td>False</td>\n",
       "      <td>False</td>\n",
       "      <td>False</td>\n",
       "      <td>False</td>\n",
       "      <td>False</td>\n",
       "      <td>False</td>\n",
       "      <td>False</td>\n",
       "      <td>False</td>\n",
       "      <td>False</td>\n",
       "      <td>False</td>\n",
       "    </tr>\n",
       "    <tr>\n",
       "      <th>170</th>\n",
       "      <td>156</td>\n",
       "      <td>Quilava</td>\n",
       "      <td>405</td>\n",
       "      <td>58</td>\n",
       "      <td>64</td>\n",
       "      <td>58</td>\n",
       "      <td>80</td>\n",
       "      <td>65</td>\n",
       "      <td>80</td>\n",
       "      <td>2</td>\n",
       "      <td>...</td>\n",
       "      <td>False</td>\n",
       "      <td>False</td>\n",
       "      <td>False</td>\n",
       "      <td>False</td>\n",
       "      <td>False</td>\n",
       "      <td>False</td>\n",
       "      <td>False</td>\n",
       "      <td>False</td>\n",
       "      <td>False</td>\n",
       "      <td>False</td>\n",
       "    </tr>\n",
       "    <tr>\n",
       "      <th>590</th>\n",
       "      <td>531</td>\n",
       "      <td>Audino</td>\n",
       "      <td>445</td>\n",
       "      <td>103</td>\n",
       "      <td>60</td>\n",
       "      <td>86</td>\n",
       "      <td>60</td>\n",
       "      <td>86</td>\n",
       "      <td>50</td>\n",
       "      <td>5</td>\n",
       "      <td>...</td>\n",
       "      <td>False</td>\n",
       "      <td>False</td>\n",
       "      <td>False</td>\n",
       "      <td>False</td>\n",
       "      <td>True</td>\n",
       "      <td>False</td>\n",
       "      <td>False</td>\n",
       "      <td>False</td>\n",
       "      <td>False</td>\n",
       "      <td>False</td>\n",
       "    </tr>\n",
       "    <tr>\n",
       "      <th>227</th>\n",
       "      <td>211</td>\n",
       "      <td>Qwilfish</td>\n",
       "      <td>430</td>\n",
       "      <td>65</td>\n",
       "      <td>95</td>\n",
       "      <td>75</td>\n",
       "      <td>55</td>\n",
       "      <td>55</td>\n",
       "      <td>85</td>\n",
       "      <td>2</td>\n",
       "      <td>...</td>\n",
       "      <td>False</td>\n",
       "      <td>False</td>\n",
       "      <td>False</td>\n",
       "      <td>False</td>\n",
       "      <td>False</td>\n",
       "      <td>False</td>\n",
       "      <td>False</td>\n",
       "      <td>False</td>\n",
       "      <td>False</td>\n",
       "      <td>True</td>\n",
       "    </tr>\n",
       "    <tr>\n",
       "      <th>103</th>\n",
       "      <td>95</td>\n",
       "      <td>Onix</td>\n",
       "      <td>385</td>\n",
       "      <td>35</td>\n",
       "      <td>45</td>\n",
       "      <td>160</td>\n",
       "      <td>30</td>\n",
       "      <td>45</td>\n",
       "      <td>70</td>\n",
       "      <td>1</td>\n",
       "      <td>...</td>\n",
       "      <td>False</td>\n",
       "      <td>False</td>\n",
       "      <td>False</td>\n",
       "      <td>False</td>\n",
       "      <td>False</td>\n",
       "      <td>False</td>\n",
       "      <td>False</td>\n",
       "      <td>True</td>\n",
       "      <td>False</td>\n",
       "      <td>False</td>\n",
       "    </tr>\n",
       "  </tbody>\n",
       "</table>\n",
       "<p>5 rows × 28 columns</p>\n",
       "</div>"
      ],
      "text/plain": [
       "       #       Name  Total   HP  Attack  Defense  Sp. Atk  Sp. Def  Speed  \\\n",
       "478  430  Honchkrow    505  100     125       52      105       52     71   \n",
       "170  156    Quilava    405   58      64       58       80       65     80   \n",
       "590  531     Audino    445  103      60       86       60       86     50   \n",
       "227  211   Qwilfish    430   65      95       75       55       55     85   \n",
       "103   95       Onix    385   35      45      160       30       45     70   \n",
       "\n",
       "     Generation  ...  Type_Ghost  Type_Grass  Type_Ground  Type_Ice  \\\n",
       "478           4  ...       False       False        False     False   \n",
       "170           2  ...       False       False        False     False   \n",
       "590           5  ...       False       False        False     False   \n",
       "227           2  ...       False       False        False     False   \n",
       "103           1  ...       False       False        False     False   \n",
       "\n",
       "     Type_Normal  Type_Poison  Type_Psychic  Type_Rock  Type_Steel  Type_Water  \n",
       "478        False        False         False      False       False       False  \n",
       "170        False        False         False      False       False       False  \n",
       "590         True        False         False      False       False       False  \n",
       "227        False        False         False      False       False        True  \n",
       "103        False        False         False       True       False       False  \n",
       "\n",
       "[5 rows x 28 columns]"
      ]
     },
     "execution_count": 22,
     "metadata": {},
     "output_type": "execute_result"
    }
   ],
   "source": [
    "pokemon_coded.sample(5)"
   ]
  },
  {
   "cell_type": "code",
   "execution_count": 23,
   "id": "9c3af1d2",
   "metadata": {
    "execution": {
     "iopub.execute_input": "2024-02-28T05:09:48.090246Z",
     "iopub.status.busy": "2024-02-28T05:09:48.089489Z",
     "iopub.status.idle": "2024-02-28T05:09:48.095175Z",
     "shell.execute_reply": "2024-02-28T05:09:48.094479Z"
    },
    "papermill": {
     "duration": 0.036313,
     "end_time": "2024-02-28T05:09:48.097444",
     "exception": false,
     "start_time": "2024-02-28T05:09:48.061131",
     "status": "completed"
    },
    "tags": []
   },
   "outputs": [],
   "source": [
    "pokemon_coded.drop(columns=['Name'],inplace=True)"
   ]
  },
  {
   "cell_type": "markdown",
   "id": "5a14f2e8",
   "metadata": {
    "papermill": {
     "duration": 0.027897,
     "end_time": "2024-02-28T05:09:48.153188",
     "exception": false,
     "start_time": "2024-02-28T05:09:48.125291",
     "status": "completed"
    },
    "tags": []
   },
   "source": [
    "Label Encoding our Legendary column."
   ]
  },
  {
   "cell_type": "code",
   "execution_count": 24,
   "id": "e7375bab",
   "metadata": {
    "execution": {
     "iopub.execute_input": "2024-02-28T05:09:48.211488Z",
     "iopub.status.busy": "2024-02-28T05:09:48.211053Z",
     "iopub.status.idle": "2024-02-28T05:09:48.216898Z",
     "shell.execute_reply": "2024-02-28T05:09:48.216045Z"
    },
    "papermill": {
     "duration": 0.037739,
     "end_time": "2024-02-28T05:09:48.218976",
     "exception": false,
     "start_time": "2024-02-28T05:09:48.181237",
     "status": "completed"
    },
    "tags": []
   },
   "outputs": [],
   "source": [
    "encoder = LabelEncoder()\n",
    "Y= encoder.fit_transform(pokemon_coded['Legendary'])"
   ]
  },
  {
   "cell_type": "code",
   "execution_count": 25,
   "id": "779a8632",
   "metadata": {
    "execution": {
     "iopub.execute_input": "2024-02-28T05:09:48.281868Z",
     "iopub.status.busy": "2024-02-28T05:09:48.281126Z",
     "iopub.status.idle": "2024-02-28T05:09:48.306930Z",
     "shell.execute_reply": "2024-02-28T05:09:48.305837Z"
    },
    "papermill": {
     "duration": 0.061556,
     "end_time": "2024-02-28T05:09:48.309165",
     "exception": false,
     "start_time": "2024-02-28T05:09:48.247609",
     "status": "completed"
    },
    "tags": []
   },
   "outputs": [
    {
     "data": {
      "text/html": [
       "<div>\n",
       "<style scoped>\n",
       "    .dataframe tbody tr th:only-of-type {\n",
       "        vertical-align: middle;\n",
       "    }\n",
       "\n",
       "    .dataframe tbody tr th {\n",
       "        vertical-align: top;\n",
       "    }\n",
       "\n",
       "    .dataframe thead th {\n",
       "        text-align: right;\n",
       "    }\n",
       "</style>\n",
       "<table border=\"1\" class=\"dataframe\">\n",
       "  <thead>\n",
       "    <tr style=\"text-align: right;\">\n",
       "      <th></th>\n",
       "      <th>#</th>\n",
       "      <th>Total</th>\n",
       "      <th>HP</th>\n",
       "      <th>Attack</th>\n",
       "      <th>Defense</th>\n",
       "      <th>Sp. Atk</th>\n",
       "      <th>Sp. Def</th>\n",
       "      <th>Speed</th>\n",
       "      <th>Generation</th>\n",
       "      <th>Type_Dark</th>\n",
       "      <th>...</th>\n",
       "      <th>Type_Ghost</th>\n",
       "      <th>Type_Grass</th>\n",
       "      <th>Type_Ground</th>\n",
       "      <th>Type_Ice</th>\n",
       "      <th>Type_Normal</th>\n",
       "      <th>Type_Poison</th>\n",
       "      <th>Type_Psychic</th>\n",
       "      <th>Type_Rock</th>\n",
       "      <th>Type_Steel</th>\n",
       "      <th>Type_Water</th>\n",
       "    </tr>\n",
       "  </thead>\n",
       "  <tbody>\n",
       "    <tr>\n",
       "      <th>0</th>\n",
       "      <td>1</td>\n",
       "      <td>318</td>\n",
       "      <td>45</td>\n",
       "      <td>49</td>\n",
       "      <td>49</td>\n",
       "      <td>65</td>\n",
       "      <td>65</td>\n",
       "      <td>45</td>\n",
       "      <td>1</td>\n",
       "      <td>False</td>\n",
       "      <td>...</td>\n",
       "      <td>False</td>\n",
       "      <td>True</td>\n",
       "      <td>False</td>\n",
       "      <td>False</td>\n",
       "      <td>False</td>\n",
       "      <td>False</td>\n",
       "      <td>False</td>\n",
       "      <td>False</td>\n",
       "      <td>False</td>\n",
       "      <td>False</td>\n",
       "    </tr>\n",
       "    <tr>\n",
       "      <th>1</th>\n",
       "      <td>2</td>\n",
       "      <td>405</td>\n",
       "      <td>60</td>\n",
       "      <td>62</td>\n",
       "      <td>63</td>\n",
       "      <td>80</td>\n",
       "      <td>80</td>\n",
       "      <td>60</td>\n",
       "      <td>1</td>\n",
       "      <td>False</td>\n",
       "      <td>...</td>\n",
       "      <td>False</td>\n",
       "      <td>True</td>\n",
       "      <td>False</td>\n",
       "      <td>False</td>\n",
       "      <td>False</td>\n",
       "      <td>False</td>\n",
       "      <td>False</td>\n",
       "      <td>False</td>\n",
       "      <td>False</td>\n",
       "      <td>False</td>\n",
       "    </tr>\n",
       "    <tr>\n",
       "      <th>2</th>\n",
       "      <td>3</td>\n",
       "      <td>525</td>\n",
       "      <td>80</td>\n",
       "      <td>82</td>\n",
       "      <td>83</td>\n",
       "      <td>100</td>\n",
       "      <td>100</td>\n",
       "      <td>80</td>\n",
       "      <td>1</td>\n",
       "      <td>False</td>\n",
       "      <td>...</td>\n",
       "      <td>False</td>\n",
       "      <td>True</td>\n",
       "      <td>False</td>\n",
       "      <td>False</td>\n",
       "      <td>False</td>\n",
       "      <td>False</td>\n",
       "      <td>False</td>\n",
       "      <td>False</td>\n",
       "      <td>False</td>\n",
       "      <td>False</td>\n",
       "    </tr>\n",
       "    <tr>\n",
       "      <th>3</th>\n",
       "      <td>3</td>\n",
       "      <td>625</td>\n",
       "      <td>80</td>\n",
       "      <td>100</td>\n",
       "      <td>123</td>\n",
       "      <td>122</td>\n",
       "      <td>120</td>\n",
       "      <td>80</td>\n",
       "      <td>1</td>\n",
       "      <td>False</td>\n",
       "      <td>...</td>\n",
       "      <td>False</td>\n",
       "      <td>True</td>\n",
       "      <td>False</td>\n",
       "      <td>False</td>\n",
       "      <td>False</td>\n",
       "      <td>False</td>\n",
       "      <td>False</td>\n",
       "      <td>False</td>\n",
       "      <td>False</td>\n",
       "      <td>False</td>\n",
       "    </tr>\n",
       "    <tr>\n",
       "      <th>4</th>\n",
       "      <td>4</td>\n",
       "      <td>309</td>\n",
       "      <td>39</td>\n",
       "      <td>52</td>\n",
       "      <td>43</td>\n",
       "      <td>60</td>\n",
       "      <td>50</td>\n",
       "      <td>65</td>\n",
       "      <td>1</td>\n",
       "      <td>False</td>\n",
       "      <td>...</td>\n",
       "      <td>False</td>\n",
       "      <td>False</td>\n",
       "      <td>False</td>\n",
       "      <td>False</td>\n",
       "      <td>False</td>\n",
       "      <td>False</td>\n",
       "      <td>False</td>\n",
       "      <td>False</td>\n",
       "      <td>False</td>\n",
       "      <td>False</td>\n",
       "    </tr>\n",
       "    <tr>\n",
       "      <th>...</th>\n",
       "      <td>...</td>\n",
       "      <td>...</td>\n",
       "      <td>...</td>\n",
       "      <td>...</td>\n",
       "      <td>...</td>\n",
       "      <td>...</td>\n",
       "      <td>...</td>\n",
       "      <td>...</td>\n",
       "      <td>...</td>\n",
       "      <td>...</td>\n",
       "      <td>...</td>\n",
       "      <td>...</td>\n",
       "      <td>...</td>\n",
       "      <td>...</td>\n",
       "      <td>...</td>\n",
       "      <td>...</td>\n",
       "      <td>...</td>\n",
       "      <td>...</td>\n",
       "      <td>...</td>\n",
       "      <td>...</td>\n",
       "      <td>...</td>\n",
       "    </tr>\n",
       "    <tr>\n",
       "      <th>795</th>\n",
       "      <td>719</td>\n",
       "      <td>600</td>\n",
       "      <td>50</td>\n",
       "      <td>100</td>\n",
       "      <td>150</td>\n",
       "      <td>100</td>\n",
       "      <td>150</td>\n",
       "      <td>50</td>\n",
       "      <td>6</td>\n",
       "      <td>False</td>\n",
       "      <td>...</td>\n",
       "      <td>False</td>\n",
       "      <td>False</td>\n",
       "      <td>False</td>\n",
       "      <td>False</td>\n",
       "      <td>False</td>\n",
       "      <td>False</td>\n",
       "      <td>False</td>\n",
       "      <td>True</td>\n",
       "      <td>False</td>\n",
       "      <td>False</td>\n",
       "    </tr>\n",
       "    <tr>\n",
       "      <th>796</th>\n",
       "      <td>719</td>\n",
       "      <td>700</td>\n",
       "      <td>50</td>\n",
       "      <td>160</td>\n",
       "      <td>110</td>\n",
       "      <td>160</td>\n",
       "      <td>110</td>\n",
       "      <td>110</td>\n",
       "      <td>6</td>\n",
       "      <td>False</td>\n",
       "      <td>...</td>\n",
       "      <td>False</td>\n",
       "      <td>False</td>\n",
       "      <td>False</td>\n",
       "      <td>False</td>\n",
       "      <td>False</td>\n",
       "      <td>False</td>\n",
       "      <td>False</td>\n",
       "      <td>True</td>\n",
       "      <td>False</td>\n",
       "      <td>False</td>\n",
       "    </tr>\n",
       "    <tr>\n",
       "      <th>797</th>\n",
       "      <td>720</td>\n",
       "      <td>600</td>\n",
       "      <td>80</td>\n",
       "      <td>110</td>\n",
       "      <td>60</td>\n",
       "      <td>150</td>\n",
       "      <td>130</td>\n",
       "      <td>70</td>\n",
       "      <td>6</td>\n",
       "      <td>False</td>\n",
       "      <td>...</td>\n",
       "      <td>False</td>\n",
       "      <td>False</td>\n",
       "      <td>False</td>\n",
       "      <td>False</td>\n",
       "      <td>False</td>\n",
       "      <td>False</td>\n",
       "      <td>True</td>\n",
       "      <td>False</td>\n",
       "      <td>False</td>\n",
       "      <td>False</td>\n",
       "    </tr>\n",
       "    <tr>\n",
       "      <th>798</th>\n",
       "      <td>720</td>\n",
       "      <td>680</td>\n",
       "      <td>80</td>\n",
       "      <td>160</td>\n",
       "      <td>60</td>\n",
       "      <td>170</td>\n",
       "      <td>130</td>\n",
       "      <td>80</td>\n",
       "      <td>6</td>\n",
       "      <td>False</td>\n",
       "      <td>...</td>\n",
       "      <td>False</td>\n",
       "      <td>False</td>\n",
       "      <td>False</td>\n",
       "      <td>False</td>\n",
       "      <td>False</td>\n",
       "      <td>False</td>\n",
       "      <td>True</td>\n",
       "      <td>False</td>\n",
       "      <td>False</td>\n",
       "      <td>False</td>\n",
       "    </tr>\n",
       "    <tr>\n",
       "      <th>799</th>\n",
       "      <td>721</td>\n",
       "      <td>600</td>\n",
       "      <td>80</td>\n",
       "      <td>110</td>\n",
       "      <td>120</td>\n",
       "      <td>130</td>\n",
       "      <td>90</td>\n",
       "      <td>70</td>\n",
       "      <td>6</td>\n",
       "      <td>False</td>\n",
       "      <td>...</td>\n",
       "      <td>False</td>\n",
       "      <td>False</td>\n",
       "      <td>False</td>\n",
       "      <td>False</td>\n",
       "      <td>False</td>\n",
       "      <td>False</td>\n",
       "      <td>False</td>\n",
       "      <td>False</td>\n",
       "      <td>False</td>\n",
       "      <td>False</td>\n",
       "    </tr>\n",
       "  </tbody>\n",
       "</table>\n",
       "<p>800 rows × 26 columns</p>\n",
       "</div>"
      ],
      "text/plain": [
       "       #  Total  HP  Attack  Defense  Sp. Atk  Sp. Def  Speed  Generation  \\\n",
       "0      1    318  45      49       49       65       65     45           1   \n",
       "1      2    405  60      62       63       80       80     60           1   \n",
       "2      3    525  80      82       83      100      100     80           1   \n",
       "3      3    625  80     100      123      122      120     80           1   \n",
       "4      4    309  39      52       43       60       50     65           1   \n",
       "..   ...    ...  ..     ...      ...      ...      ...    ...         ...   \n",
       "795  719    600  50     100      150      100      150     50           6   \n",
       "796  719    700  50     160      110      160      110    110           6   \n",
       "797  720    600  80     110       60      150      130     70           6   \n",
       "798  720    680  80     160       60      170      130     80           6   \n",
       "799  721    600  80     110      120      130       90     70           6   \n",
       "\n",
       "     Type_Dark  ...  Type_Ghost  Type_Grass  Type_Ground  Type_Ice  \\\n",
       "0        False  ...       False        True        False     False   \n",
       "1        False  ...       False        True        False     False   \n",
       "2        False  ...       False        True        False     False   \n",
       "3        False  ...       False        True        False     False   \n",
       "4        False  ...       False       False        False     False   \n",
       "..         ...  ...         ...         ...          ...       ...   \n",
       "795      False  ...       False       False        False     False   \n",
       "796      False  ...       False       False        False     False   \n",
       "797      False  ...       False       False        False     False   \n",
       "798      False  ...       False       False        False     False   \n",
       "799      False  ...       False       False        False     False   \n",
       "\n",
       "     Type_Normal  Type_Poison  Type_Psychic  Type_Rock  Type_Steel  Type_Water  \n",
       "0          False        False         False      False       False       False  \n",
       "1          False        False         False      False       False       False  \n",
       "2          False        False         False      False       False       False  \n",
       "3          False        False         False      False       False       False  \n",
       "4          False        False         False      False       False       False  \n",
       "..           ...          ...           ...        ...         ...         ...  \n",
       "795        False        False         False       True       False       False  \n",
       "796        False        False         False       True       False       False  \n",
       "797        False        False          True      False       False       False  \n",
       "798        False        False          True      False       False       False  \n",
       "799        False        False         False      False       False       False  \n",
       "\n",
       "[800 rows x 26 columns]"
      ]
     },
     "execution_count": 25,
     "metadata": {},
     "output_type": "execute_result"
    }
   ],
   "source": [
    "X = pokemon_coded.drop(columns=['Legendary'])\n",
    "X"
   ]
  },
  {
   "cell_type": "markdown",
   "id": "88f9af5b",
   "metadata": {
    "papermill": {
     "duration": 0.029217,
     "end_time": "2024-02-28T05:09:48.367452",
     "exception": false,
     "start_time": "2024-02-28T05:09:48.338235",
     "status": "completed"
    },
    "tags": []
   },
   "source": [
    "# Split Train Data and Test Data"
   ]
  },
  {
   "cell_type": "code",
   "execution_count": 26,
   "id": "30d82730",
   "metadata": {
    "execution": {
     "iopub.execute_input": "2024-02-28T05:09:48.443799Z",
     "iopub.status.busy": "2024-02-28T05:09:48.442491Z",
     "iopub.status.idle": "2024-02-28T05:09:48.450947Z",
     "shell.execute_reply": "2024-02-28T05:09:48.449899Z"
    },
    "papermill": {
     "duration": 0.054234,
     "end_time": "2024-02-28T05:09:48.454280",
     "exception": false,
     "start_time": "2024-02-28T05:09:48.400046",
     "status": "completed"
    },
    "tags": []
   },
   "outputs": [],
   "source": [
    "x_train,x_test,y_train,y_test = train_test_split(X,Y,test_size=0.20,random_state=25)"
   ]
  },
  {
   "cell_type": "code",
   "execution_count": 27,
   "id": "de6a918c",
   "metadata": {
    "execution": {
     "iopub.execute_input": "2024-02-28T05:09:48.517322Z",
     "iopub.status.busy": "2024-02-28T05:09:48.516547Z",
     "iopub.status.idle": "2024-02-28T05:09:48.529139Z",
     "shell.execute_reply": "2024-02-28T05:09:48.528319Z"
    },
    "papermill": {
     "duration": 0.044711,
     "end_time": "2024-02-28T05:09:48.531460",
     "exception": false,
     "start_time": "2024-02-28T05:09:48.486749",
     "status": "completed"
    },
    "tags": []
   },
   "outputs": [],
   "source": [
    "scaler = StandardScaler()\n",
    "scaler.fit(x_train)\n",
    "\n",
    "x_train_scaled=scaler.transform(x_train)\n",
    "x_test_scaled=scaler.transform(x_test)"
   ]
  },
  {
   "cell_type": "markdown",
   "id": "7078c659",
   "metadata": {
    "papermill": {
     "duration": 0.028779,
     "end_time": "2024-02-28T05:09:48.588548",
     "exception": false,
     "start_time": "2024-02-28T05:09:48.559769",
     "status": "completed"
    },
    "tags": []
   },
   "source": [
    "# Model Building"
   ]
  },
  {
   "cell_type": "markdown",
   "id": "f7a2e040",
   "metadata": {
    "papermill": {
     "duration": 0.027969,
     "end_time": "2024-02-28T05:09:48.644804",
     "exception": false,
     "start_time": "2024-02-28T05:09:48.616835",
     "status": "completed"
    },
    "tags": []
   },
   "source": [
    "**Logistic Regression**"
   ]
  },
  {
   "cell_type": "code",
   "execution_count": 28,
   "id": "6d18e727",
   "metadata": {
    "execution": {
     "iopub.execute_input": "2024-02-28T05:09:48.703663Z",
     "iopub.status.busy": "2024-02-28T05:09:48.702927Z",
     "iopub.status.idle": "2024-02-28T05:09:48.748298Z",
     "shell.execute_reply": "2024-02-28T05:09:48.746965Z"
    },
    "papermill": {
     "duration": 0.079079,
     "end_time": "2024-02-28T05:09:48.752080",
     "exception": false,
     "start_time": "2024-02-28T05:09:48.673001",
     "status": "completed"
    },
    "tags": []
   },
   "outputs": [
    {
     "name": "stdout",
     "output_type": "stream",
     "text": [
      "Logistic Regression Classifier Accuracy Score:  96.25\n",
      "Classification Report:\n",
      "               precision    recall  f1-score   support\n",
      "\n",
      "           0       0.98      0.98      0.98       147\n",
      "           1       0.77      0.77      0.77        13\n",
      "\n",
      "    accuracy                           0.96       160\n",
      "   macro avg       0.87      0.87      0.87       160\n",
      "weighted avg       0.96      0.96      0.96       160\n",
      "\n"
     ]
    }
   ],
   "source": [
    "log = LogisticRegression()\n",
    "log.fit(x_train_scaled,y_train)\n",
    "\n",
    "log_pred = log.predict(x_test_scaled)\n",
    "print('Logistic Regression Classifier Accuracy Score: ',accuracy_score(y_test,log_pred)*100)\n",
    "print(\"Classification Report:\\n\", classification_report(y_test,log_pred))"
   ]
  },
  {
   "cell_type": "markdown",
   "id": "a5e08ac9",
   "metadata": {
    "papermill": {
     "duration": 0.046689,
     "end_time": "2024-02-28T05:09:48.860432",
     "exception": false,
     "start_time": "2024-02-28T05:09:48.813743",
     "status": "completed"
    },
    "tags": []
   },
   "source": [
    "Based on the classification report from logistic regression, it can be concluded that Legendary precision is 0.98, recall is 0.98, and F1 score is 0.98. For non-Legendary the precision is 0.77, recall is 0.77, and F1 score is 0.77. The accuracy of the Logistic Regression model is 96.25%. This means that the model successfully predicted the class correctly for 96.25% of all data used for evaluation."
   ]
  },
  {
   "cell_type": "code",
   "execution_count": 29,
   "id": "f477ab07",
   "metadata": {
    "execution": {
     "iopub.execute_input": "2024-02-28T05:09:48.919764Z",
     "iopub.status.busy": "2024-02-28T05:09:48.918637Z",
     "iopub.status.idle": "2024-02-28T05:09:49.123523Z",
     "shell.execute_reply": "2024-02-28T05:09:49.122507Z"
    },
    "papermill": {
     "duration": 0.237147,
     "end_time": "2024-02-28T05:09:49.125807",
     "exception": false,
     "start_time": "2024-02-28T05:09:48.888660",
     "status": "completed"
    },
    "tags": []
   },
   "outputs": [
    {
     "data": {
      "image/png": "[encoded data removed]",
      "text/plain": [
       "<Figure size 640x480 with 2 Axes>"
      ]
     },
     "metadata": {},
     "output_type": "display_data"
    }
   ],
   "source": [
    "confusion_matrix = metrics.confusion_matrix(y_test,log_pred)\n",
    "metrics.ConfusionMatrixDisplay(confusion_matrix = confusion_matrix, display_labels = [0,1]).plot()\n",
    "plt.show()"
   ]
  },
  {
   "cell_type": "markdown",
   "id": "91829c33",
   "metadata": {
    "papermill": {
     "duration": 0.028989,
     "end_time": "2024-02-28T05:09:49.183579",
     "exception": false,
     "start_time": "2024-02-28T05:09:49.154590",
     "status": "completed"
    },
    "tags": []
   },
   "source": []
  },
  {
   "cell_type": "markdown",
   "id": "7effe821",
   "metadata": {
    "papermill": {
     "duration": 0.028725,
     "end_time": "2024-02-28T05:09:49.241902",
     "exception": false,
     "start_time": "2024-02-28T05:09:49.213177",
     "status": "completed"
    },
    "tags": []
   },
   "source": [
    "**Decision Tree**"
   ]
  },
  {
   "cell_type": "code",
   "execution_count": 30,
   "id": "d033fa6f",
   "metadata": {
    "execution": {
     "iopub.execute_input": "2024-02-28T05:09:49.301584Z",
     "iopub.status.busy": "2024-02-28T05:09:49.301182Z",
     "iopub.status.idle": "2024-02-28T05:09:49.318849Z",
     "shell.execute_reply": "2024-02-28T05:09:49.317488Z"
    },
    "papermill": {
     "duration": 0.050288,
     "end_time": "2024-02-28T05:09:49.321136",
     "exception": false,
     "start_time": "2024-02-28T05:09:49.270848",
     "status": "completed"
    },
    "tags": []
   },
   "outputs": [
    {
     "name": "stdout",
     "output_type": "stream",
     "text": [
      "Decision Tree Classifier Accuracy Score:  93.75\n",
      "Classification Report:\n",
      "               precision    recall  f1-score   support\n",
      "\n",
      "           0       0.97      0.96      0.97       147\n",
      "           1       0.60      0.69      0.64        13\n",
      "\n",
      "    accuracy                           0.94       160\n",
      "   macro avg       0.79      0.83      0.80       160\n",
      "weighted avg       0.94      0.94      0.94       160\n",
      "\n"
     ]
    }
   ],
   "source": [
    "dtree= tree.DecisionTreeClassifier()\n",
    "dtree.fit(x_train_scaled,y_train)\n",
    "\n",
    "dtree_pred = dtree.predict(x_test_scaled)\n",
    "print('Decision Tree Classifier Accuracy Score: ',accuracy_score(y_test,dtree_pred)*100)\n",
    "print(\"Classification Report:\\n\", classification_report(y_test,dtree_pred))"
   ]
  },
  {
   "cell_type": "markdown",
   "id": "ccf19e86",
   "metadata": {
    "papermill": {
     "duration": 0.028835,
     "end_time": "2024-02-28T05:09:49.380095",
     "exception": false,
     "start_time": "2024-02-28T05:09:49.351260",
     "status": "completed"
    },
    "tags": []
   },
   "source": [
    "Based on the classification report from decicion tree, it can be concluded that Legendary precision is 0.98, recall is 0.95, and F1 score is 0.97. For non-Legendary the precision is 0.59, recall is 0.77, and F1 score is 0.67. The accuracy of the decision tree model is 93.75%."
   ]
  },
  {
   "cell_type": "code",
   "execution_count": 31,
   "id": "6ad10f12",
   "metadata": {
    "execution": {
     "iopub.execute_input": "2024-02-28T05:09:49.440957Z",
     "iopub.status.busy": "2024-02-28T05:09:49.440557Z",
     "iopub.status.idle": "2024-02-28T05:09:49.648417Z",
     "shell.execute_reply": "2024-02-28T05:09:49.647270Z"
    },
    "papermill": {
     "duration": 0.241366,
     "end_time": "2024-02-28T05:09:49.650831",
     "exception": false,
     "start_time": "2024-02-28T05:09:49.409465",
     "status": "completed"
    },
    "tags": []
   },
   "outputs": [
    {
     "data": {
      "image/png": "[encoded data removed]",
      "text/plain": [
       "<Figure size 640x480 with 2 Axes>"
      ]
     },
     "metadata": {},
     "output_type": "display_data"
    }
   ],
   "source": [
    "confusion_matrix = metrics.confusion_matrix(y_test,dtree_pred)\n",
    "metrics.ConfusionMatrixDisplay(confusion_matrix = confusion_matrix, display_labels = [0,1]).plot()\n",
    "plt.show()"
   ]
  },
  {
   "cell_type": "markdown",
   "id": "cb0bb464",
   "metadata": {
    "papermill": {
     "duration": 0.029989,
     "end_time": "2024-02-28T05:09:49.710468",
     "exception": false,
     "start_time": "2024-02-28T05:09:49.680479",
     "status": "completed"
    },
    "tags": []
   },
   "source": [
    "**Random Forest**"
   ]
  },
  {
   "cell_type": "code",
   "execution_count": 32,
   "id": "475a9cb4",
   "metadata": {
    "execution": {
     "iopub.execute_input": "2024-02-28T05:09:49.772123Z",
     "iopub.status.busy": "2024-02-28T05:09:49.771752Z",
     "iopub.status.idle": "2024-02-28T05:09:50.054260Z",
     "shell.execute_reply": "2024-02-28T05:09:50.052974Z"
    },
    "papermill": {
     "duration": 0.316066,
     "end_time": "2024-02-28T05:09:50.056652",
     "exception": false,
     "start_time": "2024-02-28T05:09:49.740586",
     "status": "completed"
    },
    "tags": []
   },
   "outputs": [
    {
     "name": "stdout",
     "output_type": "stream",
     "text": [
      "Random Forest Classifier Accuracy Score:  93.75\n",
      "Classification Report:\n",
      "               precision    recall  f1-score   support\n",
      "\n",
      "           0       0.97      0.97      0.97       147\n",
      "           1       0.62      0.62      0.62        13\n",
      "\n",
      "    accuracy                           0.94       160\n",
      "   macro avg       0.79      0.79      0.79       160\n",
      "weighted avg       0.94      0.94      0.94       160\n",
      "\n"
     ]
    }
   ],
   "source": [
    "rf = RandomForestClassifier()\n",
    "rf.fit(x_train_scaled,y_train)\n",
    "\n",
    "rf_pred = rf.predict(x_test_scaled)\n",
    "print('Random Forest Classifier Accuracy Score: ',accuracy_score(y_test,rf_pred)*100)\n",
    "print(\"Classification Report:\\n\", classification_report(y_test,rf_pred))"
   ]
  },
  {
   "cell_type": "markdown",
   "id": "0a1caa84",
   "metadata": {
    "papermill": {
     "duration": 0.029314,
     "end_time": "2024-02-28T05:09:50.115566",
     "exception": false,
     "start_time": "2024-02-28T05:09:50.086252",
     "status": "completed"
    },
    "tags": []
   },
   "source": [
    "Based on the classification report from random forest, it can be concluded that Legendary precision is 0.97, recall is 0.97, and F1 score is 0.97. For non-Legendary the precision is 0.69, recall is 0.69, and F1 score is 0.69. The accuracy of the random forest model is 95%."
   ]
  },
  {
   "cell_type": "code",
   "execution_count": 33,
   "id": "bbe3d947",
   "metadata": {
    "execution": {
     "iopub.execute_input": "2024-02-28T05:09:50.176410Z",
     "iopub.status.busy": "2024-02-28T05:09:50.175978Z",
     "iopub.status.idle": "2024-02-28T05:09:50.391590Z",
     "shell.execute_reply": "2024-02-28T05:09:50.390557Z"
    },
    "papermill": {
     "duration": 0.249318,
     "end_time": "2024-02-28T05:09:50.393955",
     "exception": false,
     "start_time": "2024-02-28T05:09:50.144637",
     "status": "completed"
    },
    "tags": []
   },
   "outputs": [
    {
     "data": {
      "image/png": "[encoded data removed]",
      "text/plain": [
       "<Figure size 640x480 with 2 Axes>"
      ]
     },
     "metadata": {},
     "output_type": "display_data"
    }
   ],
   "source": [
    "confusion_matrix = metrics.confusion_matrix(y_test,rf_pred)\n",
    "metrics.ConfusionMatrixDisplay(confusion_matrix = confusion_matrix, display_labels = [0,1]).plot()\n",
    "plt.show()"
   ]
  },
  {
   "cell_type": "markdown",
   "id": "386e6b2e",
   "metadata": {
    "papermill": {
     "duration": 0.029824,
     "end_time": "2024-02-28T05:09:50.453411",
     "exception": false,
     "start_time": "2024-02-28T05:09:50.423587",
     "status": "completed"
    },
    "tags": []
   },
   "source": [
    "**Naive Bayes**"
   ]
  },
  {
   "cell_type": "code",
   "execution_count": 34,
   "id": "99813ec6",
   "metadata": {
    "execution": {
     "iopub.execute_input": "2024-02-28T05:09:50.514869Z",
     "iopub.status.busy": "2024-02-28T05:09:50.513833Z",
     "iopub.status.idle": "2024-02-28T05:09:50.531273Z",
     "shell.execute_reply": "2024-02-28T05:09:50.530164Z"
    },
    "papermill": {
     "duration": 0.050166,
     "end_time": "2024-02-28T05:09:50.533473",
     "exception": false,
     "start_time": "2024-02-28T05:09:50.483307",
     "status": "completed"
    },
    "tags": []
   },
   "outputs": [
    {
     "name": "stdout",
     "output_type": "stream",
     "text": [
      "Naive Bayes Classifier Accuracy Score:  30.0\n",
      "Classification Report:\n",
      "               precision    recall  f1-score   support\n",
      "\n",
      "           0       0.97      0.24      0.39       147\n",
      "           1       0.10      0.92      0.18        13\n",
      "\n",
      "    accuracy                           0.30       160\n",
      "   macro avg       0.54      0.58      0.28       160\n",
      "weighted avg       0.90      0.30      0.37       160\n",
      "\n"
     ]
    }
   ],
   "source": [
    "nb = GaussianNB()\n",
    "nb.fit(x_train_scaled,y_train)\n",
    "\n",
    "nb_pred = nb.predict(x_test_scaled)\n",
    "print('Naive Bayes Classifier Accuracy Score: ',accuracy_score(y_test,nb_pred)*100)\n",
    "print(\"Classification Report:\\n\", classification_report(y_test,nb_pred))"
   ]
  },
  {
   "cell_type": "markdown",
   "id": "c73e4d07",
   "metadata": {
    "papermill": {
     "duration": 0.030168,
     "end_time": "2024-02-28T05:09:50.593489",
     "exception": false,
     "start_time": "2024-02-28T05:09:50.563321",
     "status": "completed"
    },
    "tags": []
   },
   "source": [
    "Based on the classification report from naive bayes, it can be concluded that Legendary precision is 0.97, recall is 0.24, and F1 score is 0.39. For non-Legendary the precision is 0.10, recall is 0.92, and F1 score is 0.18. The accuracy of the random forest model is 30%, indicating that the model may not work well or there are problems that need to be fixed."
   ]
  },
  {
   "cell_type": "code",
   "execution_count": 35,
   "id": "7cd87185",
   "metadata": {
    "execution": {
     "iopub.execute_input": "2024-02-28T05:09:50.656907Z",
     "iopub.status.busy": "2024-02-28T05:09:50.656537Z",
     "iopub.status.idle": "2024-02-28T05:09:50.854397Z",
     "shell.execute_reply": "2024-02-28T05:09:50.853237Z"
    },
    "papermill": {
     "duration": 0.232495,
     "end_time": "2024-02-28T05:09:50.856907",
     "exception": false,
     "start_time": "2024-02-28T05:09:50.624412",
     "status": "completed"
    },
    "tags": []
   },
   "outputs": [
    {
     "data": {
      "image/png": "[encoded data removed]",
      "text/plain": [
       "<Figure size 640x480 with 2 Axes>"
      ]
     },
     "metadata": {},
     "output_type": "display_data"
    }
   ],
   "source": [
    "confusion_matrix = metrics.confusion_matrix(y_test,nb_pred)\n",
    "metrics.ConfusionMatrixDisplay(confusion_matrix = confusion_matrix, display_labels = [0,1]).plot()\n",
    "plt.show()"
   ]
  },
  {
   "cell_type": "markdown",
   "id": "507b706d",
   "metadata": {
    "papermill": {
     "duration": 0.030343,
     "end_time": "2024-02-28T05:09:50.917940",
     "exception": false,
     "start_time": "2024-02-28T05:09:50.887597",
     "status": "completed"
    },
    "tags": []
   },
   "source": [
    "**KNN**"
   ]
  },
  {
   "cell_type": "code",
   "execution_count": 36,
   "id": "df2d8cd7",
   "metadata": {
    "execution": {
     "iopub.execute_input": "2024-02-28T05:09:50.981844Z",
     "iopub.status.busy": "2024-02-28T05:09:50.981272Z",
     "iopub.status.idle": "2024-02-28T05:09:51.061265Z",
     "shell.execute_reply": "2024-02-28T05:09:51.060169Z"
    },
    "papermill": {
     "duration": 0.114943,
     "end_time": "2024-02-28T05:09:51.064163",
     "exception": false,
     "start_time": "2024-02-28T05:09:50.949220",
     "status": "completed"
    },
    "tags": []
   },
   "outputs": [
    {
     "name": "stdout",
     "output_type": "stream",
     "text": [
      "KNN Classifier Accuracy Score:  93.125\n",
      "Classification Report:\n",
      "               precision    recall  f1-score   support\n",
      "\n",
      "           0       0.93      1.00      0.96       147\n",
      "           1       1.00      0.15      0.27        13\n",
      "\n",
      "    accuracy                           0.93       160\n",
      "   macro avg       0.97      0.58      0.62       160\n",
      "weighted avg       0.94      0.93      0.91       160\n",
      "\n"
     ]
    }
   ],
   "source": [
    "k = 6\n",
    "knn = KNeighborsClassifier(n_neighbors=k)\n",
    "\n",
    "knn.fit(x_train_scaled,y_train)\n",
    "knn_pred = knn.predict(x_test_scaled)\n",
    "print('KNN Classifier Accuracy Score: ',accuracy_score(y_test,knn_pred)*100)\n",
    "print(\"Classification Report:\\n\", classification_report(y_test,knn_pred))"
   ]
  },
  {
   "cell_type": "markdown",
   "id": "f3fbaad2",
   "metadata": {
    "papermill": {
     "duration": 0.029896,
     "end_time": "2024-02-28T05:09:51.124778",
     "exception": false,
     "start_time": "2024-02-28T05:09:51.094882",
     "status": "completed"
    },
    "tags": []
   },
   "source": [
    "Based on the classification report from KNN, it can be concluded that Legendary precision is 0.93, recall is 1.00, and F1 score is 0.96. For non-Legendary the precision is 1.00, recall is 0.15, and F1 score is 0.27. The accuracy of the KNN model is 93.125%."
   ]
  },
  {
   "cell_type": "code",
   "execution_count": 37,
   "id": "4b403a21",
   "metadata": {
    "execution": {
     "iopub.execute_input": "2024-02-28T05:09:51.188143Z",
     "iopub.status.busy": "2024-02-28T05:09:51.187773Z",
     "iopub.status.idle": "2024-02-28T05:09:51.515026Z",
     "shell.execute_reply": "2024-02-28T05:09:51.514066Z"
    },
    "papermill": {
     "duration": 0.362102,
     "end_time": "2024-02-28T05:09:51.517525",
     "exception": false,
     "start_time": "2024-02-28T05:09:51.155423",
     "status": "completed"
    },
    "tags": []
   },
   "outputs": [
    {
     "data": {
      "image/png": "[encoded data removed]",
      "text/plain": [
       "<Figure size 640x480 with 2 Axes>"
      ]
     },
     "metadata": {},
     "output_type": "display_data"
    }
   ],
   "source": [
    "confusion_matrix = metrics.confusion_matrix(y_test,nb_pred)\n",
    "metrics.ConfusionMatrixDisplay(confusion_matrix = confusion_matrix, display_labels = [0,1]).plot()\n",
    "plt.show()"
   ]
  },
  {
   "cell_type": "markdown",
   "id": "9f342a42",
   "metadata": {
    "papermill": {
     "duration": 0.031258,
     "end_time": "2024-02-28T05:09:51.580540",
     "exception": false,
     "start_time": "2024-02-28T05:09:51.549282",
     "status": "completed"
    },
    "tags": []
   },
   "source": [
    "**SVM**"
   ]
  },
  {
   "cell_type": "code",
   "execution_count": 38,
   "id": "0eb979e5",
   "metadata": {
    "execution": {
     "iopub.execute_input": "2024-02-28T05:09:51.644424Z",
     "iopub.status.busy": "2024-02-28T05:09:51.644026Z",
     "iopub.status.idle": "2024-02-28T05:09:51.666513Z",
     "shell.execute_reply": "2024-02-28T05:09:51.665157Z"
    },
    "papermill": {
     "duration": 0.057087,
     "end_time": "2024-02-28T05:09:51.668698",
     "exception": false,
     "start_time": "2024-02-28T05:09:51.611611",
     "status": "completed"
    },
    "tags": []
   },
   "outputs": [
    {
     "name": "stdout",
     "output_type": "stream",
     "text": [
      "SVM Classifier Accuracy Score:  92.5\n",
      "Classification Report:\n",
      "               precision    recall  f1-score   support\n",
      "\n",
      "           0       0.94      0.98      0.96       147\n",
      "           1       0.57      0.31      0.40        13\n",
      "\n",
      "    accuracy                           0.93       160\n",
      "   macro avg       0.76      0.64      0.68       160\n",
      "weighted avg       0.91      0.93      0.91       160\n",
      "\n"
     ]
    }
   ],
   "source": [
    "svm = SVC()\n",
    "svm.fit(x_train_scaled,y_train)\n",
    "\n",
    "svm_pred = svm.predict(x_test_scaled)\n",
    "print('SVM Classifier Accuracy Score: ',accuracy_score(y_test,svm_pred)*100)\n",
    "print(\"Classification Report:\\n\", classification_report(y_test,svm_pred))"
   ]
  },
  {
   "cell_type": "markdown",
   "id": "17902b37",
   "metadata": {
    "papermill": {
     "duration": 0.030443,
     "end_time": "2024-02-28T05:09:51.729680",
     "exception": false,
     "start_time": "2024-02-28T05:09:51.699237",
     "status": "completed"
    },
    "tags": []
   },
   "source": [
    "Based on the classification report from SVM, it can be concluded that Legendary precision is 0.94, recall is 0.98, and F1 score is 0.96. For non-Legendary the precision is 0.57, recall is 0.31, and F1 score is 0.40. The accuracy of the KNN model is 92.5%."
   ]
  },
  {
   "cell_type": "code",
   "execution_count": 39,
   "id": "454b434c",
   "metadata": {
    "execution": {
     "iopub.execute_input": "2024-02-28T05:09:51.792834Z",
     "iopub.status.busy": "2024-02-28T05:09:51.792452Z",
     "iopub.status.idle": "2024-02-28T05:09:51.998173Z",
     "shell.execute_reply": "2024-02-28T05:09:51.997046Z"
    },
    "papermill": {
     "duration": 0.240467,
     "end_time": "2024-02-28T05:09:52.000531",
     "exception": false,
     "start_time": "2024-02-28T05:09:51.760064",
     "status": "completed"
    },
    "tags": []
   },
   "outputs": [
    {
     "data": {
      "image/png": "[encoded data removed]",
      "text/plain": [
       "<Figure size 640x480 with 2 Axes>"
      ]
     },
     "metadata": {},
     "output_type": "display_data"
    }
   ],
   "source": [
    "confusion_matrix = metrics.confusion_matrix(y_test,svm_pred)\n",
    "metrics.ConfusionMatrixDisplay(confusion_matrix = confusion_matrix, display_labels = [0,1]).plot()\n",
    "plt.show()"
   ]
  },
  {
   "cell_type": "markdown",
   "id": "b9146c7c",
   "metadata": {
    "papermill": {
     "duration": 0.031281,
     "end_time": "2024-02-28T05:09:52.063690",
     "exception": false,
     "start_time": "2024-02-28T05:09:52.032409",
     "status": "completed"
    },
    "tags": []
   },
   "source": [
    "# Conclusion\n",
    "\n",
    "Using the logistic regression model has an accuracy rate of 96.25%, decision tree has an accuracy rate of 93.75%, random forest has an accuracy rate of 93.125%, naive bayes has an accuracy rate of 30%, KNN has an accuracy rate of 93.125%, and SVM has an accuracy rate of 92.5%. In this case, using the random forest and KNN methods will have the same accuracy rate of 93.125%. It can be concluded that using the logistic regression model has the highest accuracy rate of 96.25%.\n"
   ]
  }
 ],
 "metadata": {
  "kaggle": {
   "accelerator": "none",
   "dataSources": [
    {
     "datasetId": 331459,
     "sourceId": 661625,
     "sourceType": "datasetVersion"
    },
    {
     "datasetId": 4487275,
     "sourceId": 7689338,
     "sourceType": "datasetVersion"
    }
   ],
   "dockerImageVersionId": 30646,
   "isGpuEnabled": false,
   "isInternetEnabled": true,
   "language": "python",
   "sourceType": "notebook"
  },
  "kernelspec": {
   "display_name": "Python 3",
   "language": "python",
   "name": "python3"
  },
  "language_info": {
   "codemirror_mode": {
    "name": "ipython",
    "version": 3
   },
   "file_extension": ".py",
   "mimetype": "text/x-python",
   "name": "python",
   "nbconvert_exporter": "python",
   "pygments_lexer": "ipython3",
   "version": "3.10.13"
  },
  "papermill": {
   "default_parameters": {},
   "duration": 22.223634,
   "end_time": "2024-02-28T05:09:52.716277",
   "environment_variables": {},
   "exception": null,
   "input_path": "__notebook__.ipynb",
   "output_path": "__notebook__.ipynb",
   "parameters": {},
   "start_time": "2024-02-28T05:09:30.492643",
   "version": "2.5.0"
  }
 },
 "nbformat": 4,
 "nbformat_minor": 5
}
